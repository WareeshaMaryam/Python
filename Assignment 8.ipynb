{
 "cells": [
  {
   "cell_type": "code",
   "execution_count": 3,
   "id": "30c28860-1b95-4b9f-bd35-c5c61b7993fc",
   "metadata": {},
   "outputs": [],
   "source": [
    "import pandas as pd\n",
    "import numpy as np\n",
    "import seaborn as sns\n",
    "import matplotlib.pyplot as plt\n",
    "import warnings\n",
    "warnings.filterwarnings('ignore')"
   ]
  },
  {
   "cell_type": "code",
   "execution_count": 4,
   "id": "2b3ce8a1-47b7-43a7-a5c1-dca7271a98b8",
   "metadata": {},
   "outputs": [
    {
     "data": {
      "text/html": [
       "<div>\n",
       "<style scoped>\n",
       "    .dataframe tbody tr th:only-of-type {\n",
       "        vertical-align: middle;\n",
       "    }\n",
       "\n",
       "    .dataframe tbody tr th {\n",
       "        vertical-align: top;\n",
       "    }\n",
       "\n",
       "    .dataframe thead th {\n",
       "        text-align: right;\n",
       "    }\n",
       "</style>\n",
       "<table border=\"1\" class=\"dataframe\">\n",
       "  <thead>\n",
       "    <tr style=\"text-align: right;\">\n",
       "      <th></th>\n",
       "      <th>invoice_no</th>\n",
       "      <th>invoice_date</th>\n",
       "      <th>customer_id</th>\n",
       "      <th>gender</th>\n",
       "      <th>age</th>\n",
       "      <th>category</th>\n",
       "      <th>quantity</th>\n",
       "      <th>selling_price_per_unit</th>\n",
       "      <th>cost_price_per_unit</th>\n",
       "      <th>payment_method</th>\n",
       "      <th>region</th>\n",
       "      <th>state</th>\n",
       "      <th>shopping_mall</th>\n",
       "    </tr>\n",
       "  </thead>\n",
       "  <tbody>\n",
       "    <tr>\n",
       "      <th>0</th>\n",
       "      <td>I138884</td>\n",
       "      <td>10/30/2016 9:58</td>\n",
       "      <td>C241288</td>\n",
       "      <td>Female</td>\n",
       "      <td>28</td>\n",
       "      <td>Clothing</td>\n",
       "      <td>5</td>\n",
       "      <td>1500.40</td>\n",
       "      <td>1425.3800</td>\n",
       "      <td>Credit Card</td>\n",
       "      <td>South</td>\n",
       "      <td>Kentucky</td>\n",
       "      <td>Kanyon</td>\n",
       "    </tr>\n",
       "    <tr>\n",
       "      <th>1</th>\n",
       "      <td>I317333</td>\n",
       "      <td>10/30/2016 9:58</td>\n",
       "      <td>C111565</td>\n",
       "      <td>Male</td>\n",
       "      <td>21</td>\n",
       "      <td>Shoes</td>\n",
       "      <td>3</td>\n",
       "      <td>1800.51</td>\n",
       "      <td>1620.4590</td>\n",
       "      <td>Debit Card</td>\n",
       "      <td>South</td>\n",
       "      <td>Kentucky</td>\n",
       "      <td>Viaport Outlet</td>\n",
       "    </tr>\n",
       "    <tr>\n",
       "      <th>2</th>\n",
       "      <td>I127801</td>\n",
       "      <td>10/30/2016 9:58</td>\n",
       "      <td>C266599</td>\n",
       "      <td>Male</td>\n",
       "      <td>20</td>\n",
       "      <td>Clothing</td>\n",
       "      <td>1</td>\n",
       "      <td>300.08</td>\n",
       "      <td>295.0600</td>\n",
       "      <td>Cash</td>\n",
       "      <td>West</td>\n",
       "      <td>California</td>\n",
       "      <td>Metrocity</td>\n",
       "    </tr>\n",
       "    <tr>\n",
       "      <th>3</th>\n",
       "      <td>I173702</td>\n",
       "      <td>10/30/2016 9:58</td>\n",
       "      <td>C988172</td>\n",
       "      <td>Female</td>\n",
       "      <td>66</td>\n",
       "      <td>Shoes</td>\n",
       "      <td>5</td>\n",
       "      <td>3000.85</td>\n",
       "      <td>2900.7650</td>\n",
       "      <td>Credit Card</td>\n",
       "      <td>South</td>\n",
       "      <td>Florida</td>\n",
       "      <td>Metropol AVM</td>\n",
       "    </tr>\n",
       "    <tr>\n",
       "      <th>4</th>\n",
       "      <td>I337046</td>\n",
       "      <td>10/30/2016 9:59</td>\n",
       "      <td>C189076</td>\n",
       "      <td>Female</td>\n",
       "      <td>53</td>\n",
       "      <td>Books</td>\n",
       "      <td>4</td>\n",
       "      <td>60.60</td>\n",
       "      <td>45.4500</td>\n",
       "      <td>Cash</td>\n",
       "      <td>South</td>\n",
       "      <td>Florida</td>\n",
       "      <td>Kanyon</td>\n",
       "    </tr>\n",
       "    <tr>\n",
       "      <th>...</th>\n",
       "      <td>...</td>\n",
       "      <td>...</td>\n",
       "      <td>...</td>\n",
       "      <td>...</td>\n",
       "      <td>...</td>\n",
       "      <td>...</td>\n",
       "      <td>...</td>\n",
       "      <td>...</td>\n",
       "      <td>...</td>\n",
       "      <td>...</td>\n",
       "      <td>...</td>\n",
       "      <td>...</td>\n",
       "      <td>...</td>\n",
       "    </tr>\n",
       "    <tr>\n",
       "      <th>99452</th>\n",
       "      <td>I219422</td>\n",
       "      <td>11/15/2016 12:43</td>\n",
       "      <td>C441542</td>\n",
       "      <td>Female</td>\n",
       "      <td>45</td>\n",
       "      <td>Souvenir</td>\n",
       "      <td>5</td>\n",
       "      <td>58.65</td>\n",
       "      <td>43.9875</td>\n",
       "      <td>Credit Card</td>\n",
       "      <td>South</td>\n",
       "      <td>Alabama</td>\n",
       "      <td>Kanyon</td>\n",
       "    </tr>\n",
       "    <tr>\n",
       "      <th>99453</th>\n",
       "      <td>I325143</td>\n",
       "      <td>11/15/2016 12:43</td>\n",
       "      <td>C569580</td>\n",
       "      <td>Male</td>\n",
       "      <td>27</td>\n",
       "      <td>Food &amp; Beverage</td>\n",
       "      <td>2</td>\n",
       "      <td>10.46</td>\n",
       "      <td>7.3220</td>\n",
       "      <td>Cash</td>\n",
       "      <td>South</td>\n",
       "      <td>Alabama</td>\n",
       "      <td>Viaport Outlet</td>\n",
       "    </tr>\n",
       "    <tr>\n",
       "      <th>99454</th>\n",
       "      <td>I824010</td>\n",
       "      <td>11/15/2016 12:44</td>\n",
       "      <td>C103292</td>\n",
       "      <td>Male</td>\n",
       "      <td>63</td>\n",
       "      <td>Food &amp; Beverage</td>\n",
       "      <td>2</td>\n",
       "      <td>10.46</td>\n",
       "      <td>7.3220</td>\n",
       "      <td>Debit Card</td>\n",
       "      <td>South</td>\n",
       "      <td>Alabama</td>\n",
       "      <td>Metrocity</td>\n",
       "    </tr>\n",
       "    <tr>\n",
       "      <th>99455</th>\n",
       "      <td>I702964</td>\n",
       "      <td>11/15/2016 12:44</td>\n",
       "      <td>C800631</td>\n",
       "      <td>Male</td>\n",
       "      <td>56</td>\n",
       "      <td>Technology</td>\n",
       "      <td>4</td>\n",
       "      <td>4200.00</td>\n",
       "      <td>3780.0000</td>\n",
       "      <td>Cash</td>\n",
       "      <td>South</td>\n",
       "      <td>Georgia</td>\n",
       "      <td>Istinye Park</td>\n",
       "    </tr>\n",
       "    <tr>\n",
       "      <th>99456</th>\n",
       "      <td>I232867</td>\n",
       "      <td>11/15/2016 12:44</td>\n",
       "      <td>C273973</td>\n",
       "      <td>Female</td>\n",
       "      <td>36</td>\n",
       "      <td>Souvenir</td>\n",
       "      <td>3</td>\n",
       "      <td>35.19</td>\n",
       "      <td>24.6330</td>\n",
       "      <td>Credit Card</td>\n",
       "      <td>South</td>\n",
       "      <td>Georgia</td>\n",
       "      <td>Mall of Istanbul</td>\n",
       "    </tr>\n",
       "  </tbody>\n",
       "</table>\n",
       "<p>99457 rows × 13 columns</p>\n",
       "</div>"
      ],
      "text/plain": [
       "      invoice_no      invoice_date customer_id  gender  age         category  \\\n",
       "0        I138884   10/30/2016 9:58     C241288  Female   28         Clothing   \n",
       "1        I317333   10/30/2016 9:58     C111565    Male   21            Shoes   \n",
       "2        I127801   10/30/2016 9:58     C266599    Male   20         Clothing   \n",
       "3        I173702   10/30/2016 9:58     C988172  Female   66            Shoes   \n",
       "4        I337046   10/30/2016 9:59     C189076  Female   53            Books   \n",
       "...          ...               ...         ...     ...  ...              ...   \n",
       "99452    I219422  11/15/2016 12:43     C441542  Female   45         Souvenir   \n",
       "99453    I325143  11/15/2016 12:43     C569580    Male   27  Food & Beverage   \n",
       "99454    I824010  11/15/2016 12:44     C103292    Male   63  Food & Beverage   \n",
       "99455    I702964  11/15/2016 12:44     C800631    Male   56       Technology   \n",
       "99456    I232867  11/15/2016 12:44     C273973  Female   36         Souvenir   \n",
       "\n",
       "       quantity  selling_price_per_unit  cost_price_per_unit payment_method  \\\n",
       "0             5                 1500.40            1425.3800    Credit Card   \n",
       "1             3                 1800.51            1620.4590     Debit Card   \n",
       "2             1                  300.08             295.0600           Cash   \n",
       "3             5                 3000.85            2900.7650    Credit Card   \n",
       "4             4                   60.60              45.4500           Cash   \n",
       "...         ...                     ...                  ...            ...   \n",
       "99452         5                   58.65              43.9875    Credit Card   \n",
       "99453         2                   10.46               7.3220           Cash   \n",
       "99454         2                   10.46               7.3220     Debit Card   \n",
       "99455         4                 4200.00            3780.0000           Cash   \n",
       "99456         3                   35.19              24.6330    Credit Card   \n",
       "\n",
       "      region       state     shopping_mall  \n",
       "0      South    Kentucky            Kanyon  \n",
       "1      South    Kentucky    Viaport Outlet  \n",
       "2       West  California         Metrocity  \n",
       "3      South     Florida      Metropol AVM  \n",
       "4      South     Florida            Kanyon  \n",
       "...      ...         ...               ...  \n",
       "99452  South     Alabama            Kanyon  \n",
       "99453  South     Alabama    Viaport Outlet  \n",
       "99454  South     Alabama         Metrocity  \n",
       "99455  South     Georgia      Istinye Park  \n",
       "99456  South     Georgia  Mall of Istanbul  \n",
       "\n",
       "[99457 rows x 13 columns]"
      ]
     },
     "execution_count": 4,
     "metadata": {},
     "output_type": "execute_result"
    }
   ],
   "source": [
    "df = pd.read_csv('Different_stores_dataset.csv')\n",
    "df"
   ]
  },
  {
   "cell_type": "markdown",
   "id": "62298c37-3503-467f-85e3-1a44f163a334",
   "metadata": {},
   "source": [
    "### 1. Check missing values and duplicate records"
   ]
  },
  {
   "cell_type": "code",
   "execution_count": 9,
   "id": "daaa2f2e-22d4-4894-ba06-4b35f239a99c",
   "metadata": {},
   "outputs": [
    {
     "data": {
      "text/plain": [
       "invoice_no                0\n",
       "invoice_date              0\n",
       "customer_id               0\n",
       "gender                    0\n",
       "age                       0\n",
       "category                  0\n",
       "quantity                  0\n",
       "selling_price_per_unit    0\n",
       "cost_price_per_unit       0\n",
       "payment_method            0\n",
       "region                    0\n",
       "state                     0\n",
       "shopping_mall             0\n",
       "dtype: int64"
      ]
     },
     "execution_count": 9,
     "metadata": {},
     "output_type": "execute_result"
    }
   ],
   "source": [
    "df.isnull().sum() # checking missing values"
   ]
  },
  {
   "cell_type": "code",
   "execution_count": 11,
   "id": "da1acef6-0d82-43bc-9138-aeb471f9f62f",
   "metadata": {},
   "outputs": [
    {
     "data": {
      "text/plain": [
       "0"
      ]
     },
     "execution_count": 11,
     "metadata": {},
     "output_type": "execute_result"
    }
   ],
   "source": [
    "df.duplicated().sum() # checking duplicate values"
   ]
  },
  {
   "cell_type": "markdown",
   "id": "c70db244-711e-4406-8d14-40c08539b8e5",
   "metadata": {},
   "source": [
    "### 2. Add column name 'Total Sales'"
   ]
  },
  {
   "cell_type": "code",
   "execution_count": 13,
   "id": "70f0ea68-8d45-4cad-a4d6-bbf8f1eab4f2",
   "metadata": {},
   "outputs": [],
   "source": [
    "df['Total_Sale'] = None\n"
   ]
  },
  {
   "cell_type": "code",
   "execution_count": 15,
   "id": "703defd3-2a39-4cf0-8a8e-d62ecd8d8ffc",
   "metadata": {},
   "outputs": [
    {
     "data": {
      "text/html": [
       "<div>\n",
       "<style scoped>\n",
       "    .dataframe tbody tr th:only-of-type {\n",
       "        vertical-align: middle;\n",
       "    }\n",
       "\n",
       "    .dataframe tbody tr th {\n",
       "        vertical-align: top;\n",
       "    }\n",
       "\n",
       "    .dataframe thead th {\n",
       "        text-align: right;\n",
       "    }\n",
       "</style>\n",
       "<table border=\"1\" class=\"dataframe\">\n",
       "  <thead>\n",
       "    <tr style=\"text-align: right;\">\n",
       "      <th></th>\n",
       "      <th>invoice_no</th>\n",
       "      <th>invoice_date</th>\n",
       "      <th>customer_id</th>\n",
       "      <th>gender</th>\n",
       "      <th>age</th>\n",
       "      <th>category</th>\n",
       "      <th>quantity</th>\n",
       "      <th>selling_price_per_unit</th>\n",
       "      <th>cost_price_per_unit</th>\n",
       "      <th>payment_method</th>\n",
       "      <th>region</th>\n",
       "      <th>state</th>\n",
       "      <th>shopping_mall</th>\n",
       "      <th>Total_Sale</th>\n",
       "    </tr>\n",
       "  </thead>\n",
       "  <tbody>\n",
       "    <tr>\n",
       "      <th>0</th>\n",
       "      <td>I138884</td>\n",
       "      <td>10/30/2016 9:58</td>\n",
       "      <td>C241288</td>\n",
       "      <td>Female</td>\n",
       "      <td>28</td>\n",
       "      <td>Clothing</td>\n",
       "      <td>5</td>\n",
       "      <td>1500.40</td>\n",
       "      <td>1425.3800</td>\n",
       "      <td>Credit Card</td>\n",
       "      <td>South</td>\n",
       "      <td>Kentucky</td>\n",
       "      <td>Kanyon</td>\n",
       "      <td>None</td>\n",
       "    </tr>\n",
       "    <tr>\n",
       "      <th>1</th>\n",
       "      <td>I317333</td>\n",
       "      <td>10/30/2016 9:58</td>\n",
       "      <td>C111565</td>\n",
       "      <td>Male</td>\n",
       "      <td>21</td>\n",
       "      <td>Shoes</td>\n",
       "      <td>3</td>\n",
       "      <td>1800.51</td>\n",
       "      <td>1620.4590</td>\n",
       "      <td>Debit Card</td>\n",
       "      <td>South</td>\n",
       "      <td>Kentucky</td>\n",
       "      <td>Viaport Outlet</td>\n",
       "      <td>None</td>\n",
       "    </tr>\n",
       "    <tr>\n",
       "      <th>2</th>\n",
       "      <td>I127801</td>\n",
       "      <td>10/30/2016 9:58</td>\n",
       "      <td>C266599</td>\n",
       "      <td>Male</td>\n",
       "      <td>20</td>\n",
       "      <td>Clothing</td>\n",
       "      <td>1</td>\n",
       "      <td>300.08</td>\n",
       "      <td>295.0600</td>\n",
       "      <td>Cash</td>\n",
       "      <td>West</td>\n",
       "      <td>California</td>\n",
       "      <td>Metrocity</td>\n",
       "      <td>None</td>\n",
       "    </tr>\n",
       "    <tr>\n",
       "      <th>3</th>\n",
       "      <td>I173702</td>\n",
       "      <td>10/30/2016 9:58</td>\n",
       "      <td>C988172</td>\n",
       "      <td>Female</td>\n",
       "      <td>66</td>\n",
       "      <td>Shoes</td>\n",
       "      <td>5</td>\n",
       "      <td>3000.85</td>\n",
       "      <td>2900.7650</td>\n",
       "      <td>Credit Card</td>\n",
       "      <td>South</td>\n",
       "      <td>Florida</td>\n",
       "      <td>Metropol AVM</td>\n",
       "      <td>None</td>\n",
       "    </tr>\n",
       "    <tr>\n",
       "      <th>4</th>\n",
       "      <td>I337046</td>\n",
       "      <td>10/30/2016 9:59</td>\n",
       "      <td>C189076</td>\n",
       "      <td>Female</td>\n",
       "      <td>53</td>\n",
       "      <td>Books</td>\n",
       "      <td>4</td>\n",
       "      <td>60.60</td>\n",
       "      <td>45.4500</td>\n",
       "      <td>Cash</td>\n",
       "      <td>South</td>\n",
       "      <td>Florida</td>\n",
       "      <td>Kanyon</td>\n",
       "      <td>None</td>\n",
       "    </tr>\n",
       "    <tr>\n",
       "      <th>...</th>\n",
       "      <td>...</td>\n",
       "      <td>...</td>\n",
       "      <td>...</td>\n",
       "      <td>...</td>\n",
       "      <td>...</td>\n",
       "      <td>...</td>\n",
       "      <td>...</td>\n",
       "      <td>...</td>\n",
       "      <td>...</td>\n",
       "      <td>...</td>\n",
       "      <td>...</td>\n",
       "      <td>...</td>\n",
       "      <td>...</td>\n",
       "      <td>...</td>\n",
       "    </tr>\n",
       "    <tr>\n",
       "      <th>99452</th>\n",
       "      <td>I219422</td>\n",
       "      <td>11/15/2016 12:43</td>\n",
       "      <td>C441542</td>\n",
       "      <td>Female</td>\n",
       "      <td>45</td>\n",
       "      <td>Souvenir</td>\n",
       "      <td>5</td>\n",
       "      <td>58.65</td>\n",
       "      <td>43.9875</td>\n",
       "      <td>Credit Card</td>\n",
       "      <td>South</td>\n",
       "      <td>Alabama</td>\n",
       "      <td>Kanyon</td>\n",
       "      <td>None</td>\n",
       "    </tr>\n",
       "    <tr>\n",
       "      <th>99453</th>\n",
       "      <td>I325143</td>\n",
       "      <td>11/15/2016 12:43</td>\n",
       "      <td>C569580</td>\n",
       "      <td>Male</td>\n",
       "      <td>27</td>\n",
       "      <td>Food &amp; Beverage</td>\n",
       "      <td>2</td>\n",
       "      <td>10.46</td>\n",
       "      <td>7.3220</td>\n",
       "      <td>Cash</td>\n",
       "      <td>South</td>\n",
       "      <td>Alabama</td>\n",
       "      <td>Viaport Outlet</td>\n",
       "      <td>None</td>\n",
       "    </tr>\n",
       "    <tr>\n",
       "      <th>99454</th>\n",
       "      <td>I824010</td>\n",
       "      <td>11/15/2016 12:44</td>\n",
       "      <td>C103292</td>\n",
       "      <td>Male</td>\n",
       "      <td>63</td>\n",
       "      <td>Food &amp; Beverage</td>\n",
       "      <td>2</td>\n",
       "      <td>10.46</td>\n",
       "      <td>7.3220</td>\n",
       "      <td>Debit Card</td>\n",
       "      <td>South</td>\n",
       "      <td>Alabama</td>\n",
       "      <td>Metrocity</td>\n",
       "      <td>None</td>\n",
       "    </tr>\n",
       "    <tr>\n",
       "      <th>99455</th>\n",
       "      <td>I702964</td>\n",
       "      <td>11/15/2016 12:44</td>\n",
       "      <td>C800631</td>\n",
       "      <td>Male</td>\n",
       "      <td>56</td>\n",
       "      <td>Technology</td>\n",
       "      <td>4</td>\n",
       "      <td>4200.00</td>\n",
       "      <td>3780.0000</td>\n",
       "      <td>Cash</td>\n",
       "      <td>South</td>\n",
       "      <td>Georgia</td>\n",
       "      <td>Istinye Park</td>\n",
       "      <td>None</td>\n",
       "    </tr>\n",
       "    <tr>\n",
       "      <th>99456</th>\n",
       "      <td>I232867</td>\n",
       "      <td>11/15/2016 12:44</td>\n",
       "      <td>C273973</td>\n",
       "      <td>Female</td>\n",
       "      <td>36</td>\n",
       "      <td>Souvenir</td>\n",
       "      <td>3</td>\n",
       "      <td>35.19</td>\n",
       "      <td>24.6330</td>\n",
       "      <td>Credit Card</td>\n",
       "      <td>South</td>\n",
       "      <td>Georgia</td>\n",
       "      <td>Mall of Istanbul</td>\n",
       "      <td>None</td>\n",
       "    </tr>\n",
       "  </tbody>\n",
       "</table>\n",
       "<p>99457 rows × 14 columns</p>\n",
       "</div>"
      ],
      "text/plain": [
       "      invoice_no      invoice_date customer_id  gender  age         category  \\\n",
       "0        I138884   10/30/2016 9:58     C241288  Female   28         Clothing   \n",
       "1        I317333   10/30/2016 9:58     C111565    Male   21            Shoes   \n",
       "2        I127801   10/30/2016 9:58     C266599    Male   20         Clothing   \n",
       "3        I173702   10/30/2016 9:58     C988172  Female   66            Shoes   \n",
       "4        I337046   10/30/2016 9:59     C189076  Female   53            Books   \n",
       "...          ...               ...         ...     ...  ...              ...   \n",
       "99452    I219422  11/15/2016 12:43     C441542  Female   45         Souvenir   \n",
       "99453    I325143  11/15/2016 12:43     C569580    Male   27  Food & Beverage   \n",
       "99454    I824010  11/15/2016 12:44     C103292    Male   63  Food & Beverage   \n",
       "99455    I702964  11/15/2016 12:44     C800631    Male   56       Technology   \n",
       "99456    I232867  11/15/2016 12:44     C273973  Female   36         Souvenir   \n",
       "\n",
       "       quantity  selling_price_per_unit  cost_price_per_unit payment_method  \\\n",
       "0             5                 1500.40            1425.3800    Credit Card   \n",
       "1             3                 1800.51            1620.4590     Debit Card   \n",
       "2             1                  300.08             295.0600           Cash   \n",
       "3             5                 3000.85            2900.7650    Credit Card   \n",
       "4             4                   60.60              45.4500           Cash   \n",
       "...         ...                     ...                  ...            ...   \n",
       "99452         5                   58.65              43.9875    Credit Card   \n",
       "99453         2                   10.46               7.3220           Cash   \n",
       "99454         2                   10.46               7.3220     Debit Card   \n",
       "99455         4                 4200.00            3780.0000           Cash   \n",
       "99456         3                   35.19              24.6330    Credit Card   \n",
       "\n",
       "      region       state     shopping_mall Total_Sale  \n",
       "0      South    Kentucky            Kanyon       None  \n",
       "1      South    Kentucky    Viaport Outlet       None  \n",
       "2       West  California         Metrocity       None  \n",
       "3      South     Florida      Metropol AVM       None  \n",
       "4      South     Florida            Kanyon       None  \n",
       "...      ...         ...               ...        ...  \n",
       "99452  South     Alabama            Kanyon       None  \n",
       "99453  South     Alabama    Viaport Outlet       None  \n",
       "99454  South     Alabama         Metrocity       None  \n",
       "99455  South     Georgia      Istinye Park       None  \n",
       "99456  South     Georgia  Mall of Istanbul       None  \n",
       "\n",
       "[99457 rows x 14 columns]"
      ]
     },
     "execution_count": 15,
     "metadata": {},
     "output_type": "execute_result"
    }
   ],
   "source": [
    "df"
   ]
  },
  {
   "cell_type": "markdown",
   "id": "cb7a68ea-fe72-439b-85ac-3a443d67c2f2",
   "metadata": {},
   "source": [
    "### 3. How many customers have age more than 60?"
   ]
  },
  {
   "cell_type": "code",
   "execution_count": 13,
   "id": "a3fde429-5569-41b9-94e6-09a407b8d268",
   "metadata": {},
   "outputs": [
    {
     "name": "stdout",
     "output_type": "stream",
     "text": [
      "<class 'pandas.core.frame.DataFrame'>\n",
      "RangeIndex: 99457 entries, 0 to 99456\n",
      "Data columns (total 14 columns):\n",
      " #   Column                  Non-Null Count  Dtype  \n",
      "---  ------                  --------------  -----  \n",
      " 0   invoice_no              99457 non-null  object \n",
      " 1   invoice_date            99457 non-null  object \n",
      " 2   customer_id             99457 non-null  object \n",
      " 3   gender                  99457 non-null  object \n",
      " 4   age                     99457 non-null  int64  \n",
      " 5   category                99457 non-null  object \n",
      " 6   quantity                99457 non-null  int64  \n",
      " 7   selling_price_per_unit  99457 non-null  float64\n",
      " 8   cost_price_per_unit     99457 non-null  float64\n",
      " 9   payment_method          99457 non-null  object \n",
      " 10  region                  99457 non-null  object \n",
      " 11  state                   99457 non-null  object \n",
      " 12  shopping_mall           99457 non-null  object \n",
      " 13  Total_Sale              0 non-null      object \n",
      "dtypes: float64(2), int64(2), object(10)\n",
      "memory usage: 10.6+ MB\n"
     ]
    }
   ],
   "source": [
    "df.info()"
   ]
  },
  {
   "cell_type": "code",
   "execution_count": 17,
   "id": "7005bfb9-66e6-4ff2-9ffb-a98906969a2a",
   "metadata": {},
   "outputs": [
    {
     "data": {
      "text/plain": [
       "17169"
      ]
     },
     "execution_count": 17,
     "metadata": {},
     "output_type": "execute_result"
    }
   ],
   "source": [
    "(df['age'] > 60).sum()"
   ]
  },
  {
   "cell_type": "markdown",
   "id": "02f93e1f-5e74-4c7f-8934-92156288e982",
   "metadata": {},
   "source": [
    "### 4. How many unique customer_id entries are there? Do any customers make multiple purchases?"
   ]
  },
  {
   "cell_type": "code",
   "execution_count": 19,
   "id": "b904ece2-9018-4434-8754-c44cd1e502d1",
   "metadata": {},
   "outputs": [
    {
     "data": {
      "text/plain": [
       "99457"
      ]
     },
     "execution_count": 19,
     "metadata": {},
     "output_type": "execute_result"
    }
   ],
   "source": [
    "df.customer_id.nunique() # unique customer_idnd"
   ]
  },
  {
   "cell_type": "code",
   "execution_count": 55,
   "id": "25d44523-936b-4c08-bee3-54516b3fe7b6",
   "metadata": {},
   "outputs": [
    {
     "data": {
      "text/plain": [
       "0"
      ]
     },
     "execution_count": 55,
     "metadata": {},
     "output_type": "execute_result"
    }
   ],
   "source": [
    "(df.customer_id.value_counts()>1).sum() # No customer make multiple purchases"
   ]
  },
  {
   "cell_type": "markdown",
   "id": "b5bafe98-cfe8-403e-9027-7c3c6208334b",
   "metadata": {},
   "source": [
    "### 5. Are there more male or female customers, Show in Pie Chart?"
   ]
  },
  {
   "cell_type": "code",
   "execution_count": 73,
   "id": "247332e7-282f-422b-8503-5173fd0d43c9",
   "metadata": {},
   "outputs": [
    {
     "data": {
      "image/png": "[encoded data removed]",
      "text/plain": [
       "<Figure size 640x480 with 1 Axes>"
      ]
     },
     "metadata": {},
     "output_type": "display_data"
    }
   ],
   "source": [
    "df.gender.value_counts().plot(kind = 'pie') # there are females more than male\n",
    "plt.show()"
   ]
  },
  {
   "cell_type": "markdown",
   "id": "fbd9773a-65d3-4fc8-b885-b337f2c82a1f",
   "metadata": {},
   "source": [
    "### 6. Which category is least popular among customers?"
   ]
  },
  {
   "cell_type": "code",
   "execution_count": 77,
   "id": "3504f370-7643-4f36-816f-0037e54b1824",
   "metadata": {},
   "outputs": [
    {
     "data": {
      "text/plain": [
       "'Books'"
      ]
     },
     "execution_count": 77,
     "metadata": {},
     "output_type": "execute_result"
    }
   ],
   "source": [
    "df. category.value_counts().idxmin() # idxmin() returns the index of the minimum value in a Series"
   ]
  },
  {
   "cell_type": "markdown",
   "id": "f460962d-92bb-40e5-9417-5647a3d2da5a",
   "metadata": {},
   "source": [
    "### 7. Which category has the highest sales volume?"
   ]
  },
  {
   "cell_type": "code",
   "execution_count": 95,
   "id": "3afda78f-97fb-424b-9ed4-3d099648e971",
   "metadata": {},
   "outputs": [
    {
     "data": {
      "text/plain": [
       "'Clothing'"
      ]
     },
     "execution_count": 95,
     "metadata": {},
     "output_type": "execute_result"
    }
   ],
   "source": [
    "df.groupby('category')['quantity'].sum().idxmax() # idxmin() returns the index of the maximum value in a Series\n",
    "\n",
    "# clothing is the only category has the highest volume."
   ]
  },
  {
   "cell_type": "markdown",
   "id": "072ffb70-be13-4748-8379-3ab98cbde250",
   "metadata": {},
   "source": [
    "### 8. Add column name 'Total Profit'\n",
    "\n",
    "Total Profit=Total Sales−Total Costs"
   ]
  },
  {
   "cell_type": "code",
   "execution_count": 99,
   "id": "3346bf00-e10c-458c-beb7-3738412c199e",
   "metadata": {},
   "outputs": [
    {
     "name": "stdout",
     "output_type": "stream",
     "text": [
      "<class 'pandas.core.frame.DataFrame'>\n",
      "RangeIndex: 99457 entries, 0 to 99456\n",
      "Data columns (total 14 columns):\n",
      " #   Column                  Non-Null Count  Dtype  \n",
      "---  ------                  --------------  -----  \n",
      " 0   invoice_no              99457 non-null  object \n",
      " 1   invoice_date            99457 non-null  object \n",
      " 2   customer_id             99457 non-null  object \n",
      " 3   gender                  99457 non-null  object \n",
      " 4   age                     99457 non-null  int64  \n",
      " 5   category                99457 non-null  object \n",
      " 6   quantity                99457 non-null  int64  \n",
      " 7   selling_price_per_unit  99457 non-null  float64\n",
      " 8   cost_price_per_unit     99457 non-null  float64\n",
      " 9   payment_method          99457 non-null  object \n",
      " 10  region                  99457 non-null  object \n",
      " 11  state                   99457 non-null  object \n",
      " 12  shopping_mall           99457 non-null  object \n",
      " 13  Total_Sale              0 non-null      object \n",
      "dtypes: float64(2), int64(2), object(10)\n",
      "memory usage: 10.6+ MB\n"
     ]
    }
   ],
   "source": [
    "df.info()"
   ]
  },
  {
   "cell_type": "code",
   "execution_count": 109,
   "id": "593d6dbf-337c-444c-8cc0-6d4c147287fa",
   "metadata": {},
   "outputs": [
    {
     "data": {
      "text/plain": [
       "0         375.1000\n",
       "1         540.1530\n",
       "2           5.0200\n",
       "3         500.4250\n",
       "4          60.6000\n",
       "           ...    \n",
       "99452      73.3125\n",
       "99453       6.2760\n",
       "99454       6.2760\n",
       "99455    1680.0000\n",
       "99456      31.6710\n",
       "Name: Total_Profit, Length: 99457, dtype: float64"
      ]
     },
     "execution_count": 109,
     "metadata": {},
     "output_type": "execute_result"
    }
   ],
   "source": [
    "df['Total_Profit'] = df['selling_price_per_unit']*df['quantity']-df['cost_price_per_unit']*df['quantity']\n",
    "df['Total_Profit']"
   ]
  },
  {
   "cell_type": "code",
   "execution_count": 119,
   "id": "0e10db16-56f8-4024-9406-741181883b4a",
   "metadata": {},
   "outputs": [
    {
     "data": {
      "text/html": [
       "<div>\n",
       "<style scoped>\n",
       "    .dataframe tbody tr th:only-of-type {\n",
       "        vertical-align: middle;\n",
       "    }\n",
       "\n",
       "    .dataframe tbody tr th {\n",
       "        vertical-align: top;\n",
       "    }\n",
       "\n",
       "    .dataframe thead th {\n",
       "        text-align: right;\n",
       "    }\n",
       "</style>\n",
       "<table border=\"1\" class=\"dataframe\">\n",
       "  <thead>\n",
       "    <tr style=\"text-align: right;\">\n",
       "      <th></th>\n",
       "      <th>invoice_no</th>\n",
       "      <th>invoice_date</th>\n",
       "      <th>customer_id</th>\n",
       "      <th>gender</th>\n",
       "      <th>age</th>\n",
       "      <th>category</th>\n",
       "      <th>quantity</th>\n",
       "      <th>selling_price_per_unit</th>\n",
       "      <th>cost_price_per_unit</th>\n",
       "      <th>payment_method</th>\n",
       "      <th>region</th>\n",
       "      <th>state</th>\n",
       "      <th>shopping_mall</th>\n",
       "      <th>Total_Sale</th>\n",
       "      <th>Total_Profit</th>\n",
       "    </tr>\n",
       "  </thead>\n",
       "  <tbody>\n",
       "    <tr>\n",
       "      <th>0</th>\n",
       "      <td>I138884</td>\n",
       "      <td>10/30/2016 9:58</td>\n",
       "      <td>C241288</td>\n",
       "      <td>Female</td>\n",
       "      <td>28</td>\n",
       "      <td>Clothing</td>\n",
       "      <td>5</td>\n",
       "      <td>1500.40</td>\n",
       "      <td>1425.380</td>\n",
       "      <td>Credit Card</td>\n",
       "      <td>South</td>\n",
       "      <td>Kentucky</td>\n",
       "      <td>Kanyon</td>\n",
       "      <td>None</td>\n",
       "      <td>375.100</td>\n",
       "    </tr>\n",
       "    <tr>\n",
       "      <th>1</th>\n",
       "      <td>I317333</td>\n",
       "      <td>10/30/2016 9:58</td>\n",
       "      <td>C111565</td>\n",
       "      <td>Male</td>\n",
       "      <td>21</td>\n",
       "      <td>Shoes</td>\n",
       "      <td>3</td>\n",
       "      <td>1800.51</td>\n",
       "      <td>1620.459</td>\n",
       "      <td>Debit Card</td>\n",
       "      <td>South</td>\n",
       "      <td>Kentucky</td>\n",
       "      <td>Viaport Outlet</td>\n",
       "      <td>None</td>\n",
       "      <td>540.153</td>\n",
       "    </tr>\n",
       "  </tbody>\n",
       "</table>\n",
       "</div>"
      ],
      "text/plain": [
       "  invoice_no     invoice_date customer_id  gender  age  category  quantity  \\\n",
       "0    I138884  10/30/2016 9:58     C241288  Female   28  Clothing         5   \n",
       "1    I317333  10/30/2016 9:58     C111565    Male   21     Shoes         3   \n",
       "\n",
       "   selling_price_per_unit  cost_price_per_unit payment_method region  \\\n",
       "0                 1500.40             1425.380    Credit Card  South   \n",
       "1                 1800.51             1620.459     Debit Card  South   \n",
       "\n",
       "      state   shopping_mall Total_Sale  Total_Profit  \n",
       "0  Kentucky          Kanyon       None       375.100  \n",
       "1  Kentucky  Viaport Outlet       None       540.153  "
      ]
     },
     "execution_count": 119,
     "metadata": {},
     "output_type": "execute_result"
    }
   ],
   "source": [
    "df.head(2)"
   ]
  },
  {
   "cell_type": "code",
   "execution_count": 121,
   "id": "9d25c26b-6d93-480a-a95b-c36c08211a6e",
   "metadata": {},
   "outputs": [
    {
     "data": {
      "text/html": [
       "<div>\n",
       "<style scoped>\n",
       "    .dataframe tbody tr th:only-of-type {\n",
       "        vertical-align: middle;\n",
       "    }\n",
       "\n",
       "    .dataframe tbody tr th {\n",
       "        vertical-align: top;\n",
       "    }\n",
       "\n",
       "    .dataframe thead th {\n",
       "        text-align: right;\n",
       "    }\n",
       "</style>\n",
       "<table border=\"1\" class=\"dataframe\">\n",
       "  <thead>\n",
       "    <tr style=\"text-align: right;\">\n",
       "      <th></th>\n",
       "      <th>invoice_no</th>\n",
       "      <th>invoice_date</th>\n",
       "      <th>customer_id</th>\n",
       "      <th>gender</th>\n",
       "      <th>age</th>\n",
       "      <th>category</th>\n",
       "      <th>quantity</th>\n",
       "      <th>selling_price_per_unit</th>\n",
       "      <th>cost_price_per_unit</th>\n",
       "      <th>payment_method</th>\n",
       "      <th>region</th>\n",
       "      <th>state</th>\n",
       "      <th>shopping_mall</th>\n",
       "      <th>Total_Sale</th>\n",
       "      <th>Total_Profit</th>\n",
       "    </tr>\n",
       "  </thead>\n",
       "  <tbody>\n",
       "    <tr>\n",
       "      <th>99455</th>\n",
       "      <td>I702964</td>\n",
       "      <td>11/15/2016 12:44</td>\n",
       "      <td>C800631</td>\n",
       "      <td>Male</td>\n",
       "      <td>56</td>\n",
       "      <td>Technology</td>\n",
       "      <td>4</td>\n",
       "      <td>4200.00</td>\n",
       "      <td>3780.000</td>\n",
       "      <td>Cash</td>\n",
       "      <td>South</td>\n",
       "      <td>Georgia</td>\n",
       "      <td>Istinye Park</td>\n",
       "      <td>None</td>\n",
       "      <td>1680.000</td>\n",
       "    </tr>\n",
       "    <tr>\n",
       "      <th>99456</th>\n",
       "      <td>I232867</td>\n",
       "      <td>11/15/2016 12:44</td>\n",
       "      <td>C273973</td>\n",
       "      <td>Female</td>\n",
       "      <td>36</td>\n",
       "      <td>Souvenir</td>\n",
       "      <td>3</td>\n",
       "      <td>35.19</td>\n",
       "      <td>24.633</td>\n",
       "      <td>Credit Card</td>\n",
       "      <td>South</td>\n",
       "      <td>Georgia</td>\n",
       "      <td>Mall of Istanbul</td>\n",
       "      <td>None</td>\n",
       "      <td>31.671</td>\n",
       "    </tr>\n",
       "  </tbody>\n",
       "</table>\n",
       "</div>"
      ],
      "text/plain": [
       "      invoice_no      invoice_date customer_id  gender  age    category  \\\n",
       "99455    I702964  11/15/2016 12:44     C800631    Male   56  Technology   \n",
       "99456    I232867  11/15/2016 12:44     C273973  Female   36    Souvenir   \n",
       "\n",
       "       quantity  selling_price_per_unit  cost_price_per_unit payment_method  \\\n",
       "99455         4                 4200.00             3780.000           Cash   \n",
       "99456         3                   35.19               24.633    Credit Card   \n",
       "\n",
       "      region    state     shopping_mall Total_Sale  Total_Profit  \n",
       "99455  South  Georgia      Istinye Park       None      1680.000  \n",
       "99456  South  Georgia  Mall of Istanbul       None        31.671  "
      ]
     },
     "execution_count": 121,
     "metadata": {},
     "output_type": "execute_result"
    }
   ],
   "source": [
    "df.tail(2)"
   ]
  },
  {
   "cell_type": "code",
   "execution_count": 123,
   "id": "eb1aceba-b798-47f0-ad58-0c48e0e6436e",
   "metadata": {},
   "outputs": [
    {
     "data": {
      "text/html": [
       "<div>\n",
       "<style scoped>\n",
       "    .dataframe tbody tr th:only-of-type {\n",
       "        vertical-align: middle;\n",
       "    }\n",
       "\n",
       "    .dataframe tbody tr th {\n",
       "        vertical-align: top;\n",
       "    }\n",
       "\n",
       "    .dataframe thead th {\n",
       "        text-align: right;\n",
       "    }\n",
       "</style>\n",
       "<table border=\"1\" class=\"dataframe\">\n",
       "  <thead>\n",
       "    <tr style=\"text-align: right;\">\n",
       "      <th></th>\n",
       "      <th>invoice_no</th>\n",
       "      <th>invoice_date</th>\n",
       "      <th>customer_id</th>\n",
       "      <th>gender</th>\n",
       "      <th>age</th>\n",
       "      <th>category</th>\n",
       "      <th>quantity</th>\n",
       "      <th>selling_price_per_unit</th>\n",
       "      <th>cost_price_per_unit</th>\n",
       "      <th>payment_method</th>\n",
       "      <th>region</th>\n",
       "      <th>state</th>\n",
       "      <th>shopping_mall</th>\n",
       "      <th>Total_Sale</th>\n",
       "      <th>Total_Profit</th>\n",
       "    </tr>\n",
       "  </thead>\n",
       "  <tbody>\n",
       "    <tr>\n",
       "      <th>0</th>\n",
       "      <td>I138884</td>\n",
       "      <td>10/30/2016 9:58</td>\n",
       "      <td>C241288</td>\n",
       "      <td>Female</td>\n",
       "      <td>28</td>\n",
       "      <td>Clothing</td>\n",
       "      <td>5</td>\n",
       "      <td>1500.40</td>\n",
       "      <td>1425.3800</td>\n",
       "      <td>Credit Card</td>\n",
       "      <td>South</td>\n",
       "      <td>Kentucky</td>\n",
       "      <td>Kanyon</td>\n",
       "      <td>None</td>\n",
       "      <td>375.1000</td>\n",
       "    </tr>\n",
       "    <tr>\n",
       "      <th>1</th>\n",
       "      <td>I317333</td>\n",
       "      <td>10/30/2016 9:58</td>\n",
       "      <td>C111565</td>\n",
       "      <td>Male</td>\n",
       "      <td>21</td>\n",
       "      <td>Shoes</td>\n",
       "      <td>3</td>\n",
       "      <td>1800.51</td>\n",
       "      <td>1620.4590</td>\n",
       "      <td>Debit Card</td>\n",
       "      <td>South</td>\n",
       "      <td>Kentucky</td>\n",
       "      <td>Viaport Outlet</td>\n",
       "      <td>None</td>\n",
       "      <td>540.1530</td>\n",
       "    </tr>\n",
       "    <tr>\n",
       "      <th>2</th>\n",
       "      <td>I127801</td>\n",
       "      <td>10/30/2016 9:58</td>\n",
       "      <td>C266599</td>\n",
       "      <td>Male</td>\n",
       "      <td>20</td>\n",
       "      <td>Clothing</td>\n",
       "      <td>1</td>\n",
       "      <td>300.08</td>\n",
       "      <td>295.0600</td>\n",
       "      <td>Cash</td>\n",
       "      <td>West</td>\n",
       "      <td>California</td>\n",
       "      <td>Metrocity</td>\n",
       "      <td>None</td>\n",
       "      <td>5.0200</td>\n",
       "    </tr>\n",
       "    <tr>\n",
       "      <th>3</th>\n",
       "      <td>I173702</td>\n",
       "      <td>10/30/2016 9:58</td>\n",
       "      <td>C988172</td>\n",
       "      <td>Female</td>\n",
       "      <td>66</td>\n",
       "      <td>Shoes</td>\n",
       "      <td>5</td>\n",
       "      <td>3000.85</td>\n",
       "      <td>2900.7650</td>\n",
       "      <td>Credit Card</td>\n",
       "      <td>South</td>\n",
       "      <td>Florida</td>\n",
       "      <td>Metropol AVM</td>\n",
       "      <td>None</td>\n",
       "      <td>500.4250</td>\n",
       "    </tr>\n",
       "    <tr>\n",
       "      <th>4</th>\n",
       "      <td>I337046</td>\n",
       "      <td>10/30/2016 9:59</td>\n",
       "      <td>C189076</td>\n",
       "      <td>Female</td>\n",
       "      <td>53</td>\n",
       "      <td>Books</td>\n",
       "      <td>4</td>\n",
       "      <td>60.60</td>\n",
       "      <td>45.4500</td>\n",
       "      <td>Cash</td>\n",
       "      <td>South</td>\n",
       "      <td>Florida</td>\n",
       "      <td>Kanyon</td>\n",
       "      <td>None</td>\n",
       "      <td>60.6000</td>\n",
       "    </tr>\n",
       "    <tr>\n",
       "      <th>...</th>\n",
       "      <td>...</td>\n",
       "      <td>...</td>\n",
       "      <td>...</td>\n",
       "      <td>...</td>\n",
       "      <td>...</td>\n",
       "      <td>...</td>\n",
       "      <td>...</td>\n",
       "      <td>...</td>\n",
       "      <td>...</td>\n",
       "      <td>...</td>\n",
       "      <td>...</td>\n",
       "      <td>...</td>\n",
       "      <td>...</td>\n",
       "      <td>...</td>\n",
       "      <td>...</td>\n",
       "    </tr>\n",
       "    <tr>\n",
       "      <th>99452</th>\n",
       "      <td>I219422</td>\n",
       "      <td>11/15/2016 12:43</td>\n",
       "      <td>C441542</td>\n",
       "      <td>Female</td>\n",
       "      <td>45</td>\n",
       "      <td>Souvenir</td>\n",
       "      <td>5</td>\n",
       "      <td>58.65</td>\n",
       "      <td>43.9875</td>\n",
       "      <td>Credit Card</td>\n",
       "      <td>South</td>\n",
       "      <td>Alabama</td>\n",
       "      <td>Kanyon</td>\n",
       "      <td>None</td>\n",
       "      <td>73.3125</td>\n",
       "    </tr>\n",
       "    <tr>\n",
       "      <th>99453</th>\n",
       "      <td>I325143</td>\n",
       "      <td>11/15/2016 12:43</td>\n",
       "      <td>C569580</td>\n",
       "      <td>Male</td>\n",
       "      <td>27</td>\n",
       "      <td>Food &amp; Beverage</td>\n",
       "      <td>2</td>\n",
       "      <td>10.46</td>\n",
       "      <td>7.3220</td>\n",
       "      <td>Cash</td>\n",
       "      <td>South</td>\n",
       "      <td>Alabama</td>\n",
       "      <td>Viaport Outlet</td>\n",
       "      <td>None</td>\n",
       "      <td>6.2760</td>\n",
       "    </tr>\n",
       "    <tr>\n",
       "      <th>99454</th>\n",
       "      <td>I824010</td>\n",
       "      <td>11/15/2016 12:44</td>\n",
       "      <td>C103292</td>\n",
       "      <td>Male</td>\n",
       "      <td>63</td>\n",
       "      <td>Food &amp; Beverage</td>\n",
       "      <td>2</td>\n",
       "      <td>10.46</td>\n",
       "      <td>7.3220</td>\n",
       "      <td>Debit Card</td>\n",
       "      <td>South</td>\n",
       "      <td>Alabama</td>\n",
       "      <td>Metrocity</td>\n",
       "      <td>None</td>\n",
       "      <td>6.2760</td>\n",
       "    </tr>\n",
       "    <tr>\n",
       "      <th>99455</th>\n",
       "      <td>I702964</td>\n",
       "      <td>11/15/2016 12:44</td>\n",
       "      <td>C800631</td>\n",
       "      <td>Male</td>\n",
       "      <td>56</td>\n",
       "      <td>Technology</td>\n",
       "      <td>4</td>\n",
       "      <td>4200.00</td>\n",
       "      <td>3780.0000</td>\n",
       "      <td>Cash</td>\n",
       "      <td>South</td>\n",
       "      <td>Georgia</td>\n",
       "      <td>Istinye Park</td>\n",
       "      <td>None</td>\n",
       "      <td>1680.0000</td>\n",
       "    </tr>\n",
       "    <tr>\n",
       "      <th>99456</th>\n",
       "      <td>I232867</td>\n",
       "      <td>11/15/2016 12:44</td>\n",
       "      <td>C273973</td>\n",
       "      <td>Female</td>\n",
       "      <td>36</td>\n",
       "      <td>Souvenir</td>\n",
       "      <td>3</td>\n",
       "      <td>35.19</td>\n",
       "      <td>24.6330</td>\n",
       "      <td>Credit Card</td>\n",
       "      <td>South</td>\n",
       "      <td>Georgia</td>\n",
       "      <td>Mall of Istanbul</td>\n",
       "      <td>None</td>\n",
       "      <td>31.6710</td>\n",
       "    </tr>\n",
       "  </tbody>\n",
       "</table>\n",
       "<p>99457 rows × 15 columns</p>\n",
       "</div>"
      ],
      "text/plain": [
       "      invoice_no      invoice_date customer_id  gender  age         category  \\\n",
       "0        I138884   10/30/2016 9:58     C241288  Female   28         Clothing   \n",
       "1        I317333   10/30/2016 9:58     C111565    Male   21            Shoes   \n",
       "2        I127801   10/30/2016 9:58     C266599    Male   20         Clothing   \n",
       "3        I173702   10/30/2016 9:58     C988172  Female   66            Shoes   \n",
       "4        I337046   10/30/2016 9:59     C189076  Female   53            Books   \n",
       "...          ...               ...         ...     ...  ...              ...   \n",
       "99452    I219422  11/15/2016 12:43     C441542  Female   45         Souvenir   \n",
       "99453    I325143  11/15/2016 12:43     C569580    Male   27  Food & Beverage   \n",
       "99454    I824010  11/15/2016 12:44     C103292    Male   63  Food & Beverage   \n",
       "99455    I702964  11/15/2016 12:44     C800631    Male   56       Technology   \n",
       "99456    I232867  11/15/2016 12:44     C273973  Female   36         Souvenir   \n",
       "\n",
       "       quantity  selling_price_per_unit  cost_price_per_unit payment_method  \\\n",
       "0             5                 1500.40            1425.3800    Credit Card   \n",
       "1             3                 1800.51            1620.4590     Debit Card   \n",
       "2             1                  300.08             295.0600           Cash   \n",
       "3             5                 3000.85            2900.7650    Credit Card   \n",
       "4             4                   60.60              45.4500           Cash   \n",
       "...         ...                     ...                  ...            ...   \n",
       "99452         5                   58.65              43.9875    Credit Card   \n",
       "99453         2                   10.46               7.3220           Cash   \n",
       "99454         2                   10.46               7.3220     Debit Card   \n",
       "99455         4                 4200.00            3780.0000           Cash   \n",
       "99456         3                   35.19              24.6330    Credit Card   \n",
       "\n",
       "      region       state     shopping_mall Total_Sale  Total_Profit  \n",
       "0      South    Kentucky            Kanyon       None      375.1000  \n",
       "1      South    Kentucky    Viaport Outlet       None      540.1530  \n",
       "2       West  California         Metrocity       None        5.0200  \n",
       "3      South     Florida      Metropol AVM       None      500.4250  \n",
       "4      South     Florida            Kanyon       None       60.6000  \n",
       "...      ...         ...               ...        ...           ...  \n",
       "99452  South     Alabama            Kanyon       None       73.3125  \n",
       "99453  South     Alabama    Viaport Outlet       None        6.2760  \n",
       "99454  South     Alabama         Metrocity       None        6.2760  \n",
       "99455  South     Georgia      Istinye Park       None     1680.0000  \n",
       "99456  South     Georgia  Mall of Istanbul       None       31.6710  \n",
       "\n",
       "[99457 rows x 15 columns]"
      ]
     },
     "execution_count": 123,
     "metadata": {},
     "output_type": "execute_result"
    }
   ],
   "source": [
    "df"
   ]
  },
  {
   "cell_type": "markdown",
   "id": "25d34dd0-d3e7-4238-a0c5-7e65835affa4",
   "metadata": {},
   "source": [
    "### 9. Display the top 10 invoices with the highest quantities sold?"
   ]
  },
  {
   "cell_type": "code",
   "execution_count": 125,
   "id": "bbaeb9a2-d472-4cd9-9596-d137085a91c4",
   "metadata": {},
   "outputs": [
    {
     "data": {
      "text/plain": [
       "Index(['invoice_no', 'invoice_date', 'customer_id', 'gender', 'age',\n",
       "       'category', 'quantity', 'selling_price_per_unit', 'cost_price_per_unit',\n",
       "       'payment_method', 'region', 'state', 'shopping_mall', 'Total_Sale',\n",
       "       'Total_Profit'],\n",
       "      dtype='object')"
      ]
     },
     "execution_count": 125,
     "metadata": {},
     "output_type": "execute_result"
    }
   ],
   "source": [
    "df.columns"
   ]
  },
  {
   "cell_type": "code",
   "execution_count": 145,
   "id": "21a415fa-385d-4586-bd42-35746cf0874d",
   "metadata": {},
   "outputs": [
    {
     "data": {
      "text/plain": [
       "invoice_no\n",
       "I283443    15\n",
       "I282789    12\n",
       "I293215    12\n",
       "I115679    11\n",
       "I160221    10\n",
       "I207205    10\n",
       "I353272    10\n",
       "I286193     9\n",
       "I139207     8\n",
       "I215578     8\n",
       "Name: quantity, dtype: int64"
      ]
     },
     "execution_count": 145,
     "metadata": {},
     "output_type": "execute_result"
    }
   ],
   "source": [
    "df.groupby('invoice_no')['quantity'].sum().nlargest(10) "
   ]
  },
  {
   "cell_type": "markdown",
   "id": "c0dcf861-2b66-4157-a2c3-5933940128bc",
   "metadata": {},
   "source": [
    "### 10. Which payment method is most commonly used?"
   ]
  },
  {
   "cell_type": "code",
   "execution_count": 157,
   "id": "67bb9ae4-fbe8-47ed-b846-0db7f943c176",
   "metadata": {},
   "outputs": [
    {
     "data": {
      "text/plain": [
       "'Cash'"
      ]
     },
     "execution_count": 157,
     "metadata": {},
     "output_type": "execute_result"
    }
   ],
   "source": [
    "df['payment_method'].value_counts().idxmax() # Cash is mostly used"
   ]
  },
  {
   "cell_type": "markdown",
   "id": "c7323023-4f9b-42ee-9088-6de00054ca8f",
   "metadata": {},
   "source": [
    "### 11. Total Sales with respect to region?"
   ]
  },
  {
   "cell_type": "code",
   "execution_count": 184,
   "id": "681f9527-442f-4852-b022-a20801fe2179",
   "metadata": {},
   "outputs": [
    {
     "data": {
      "text/html": [
       "<div>\n",
       "<style scoped>\n",
       "    .dataframe tbody tr th:only-of-type {\n",
       "        vertical-align: middle;\n",
       "    }\n",
       "\n",
       "    .dataframe tbody tr th {\n",
       "        vertical-align: top;\n",
       "    }\n",
       "\n",
       "    .dataframe thead th {\n",
       "        text-align: right;\n",
       "    }\n",
       "</style>\n",
       "<table border=\"1\" class=\"dataframe\">\n",
       "  <thead>\n",
       "    <tr style=\"text-align: right;\">\n",
       "      <th></th>\n",
       "      <th>invoice_no</th>\n",
       "      <th>invoice_date</th>\n",
       "      <th>customer_id</th>\n",
       "      <th>gender</th>\n",
       "      <th>age</th>\n",
       "      <th>category</th>\n",
       "      <th>quantity</th>\n",
       "      <th>selling_price_per_unit</th>\n",
       "      <th>cost_price_per_unit</th>\n",
       "      <th>payment_method</th>\n",
       "      <th>region</th>\n",
       "      <th>state</th>\n",
       "      <th>shopping_mall</th>\n",
       "      <th>Total_Sale</th>\n",
       "      <th>Total_Profit</th>\n",
       "    </tr>\n",
       "  </thead>\n",
       "  <tbody>\n",
       "    <tr>\n",
       "      <th>0</th>\n",
       "      <td>I138884</td>\n",
       "      <td>10/30/2016 9:58</td>\n",
       "      <td>C241288</td>\n",
       "      <td>Female</td>\n",
       "      <td>28</td>\n",
       "      <td>Clothing</td>\n",
       "      <td>5</td>\n",
       "      <td>1500.40</td>\n",
       "      <td>1425.380</td>\n",
       "      <td>Credit Card</td>\n",
       "      <td>South</td>\n",
       "      <td>Kentucky</td>\n",
       "      <td>Kanyon</td>\n",
       "      <td>7502.00</td>\n",
       "      <td>375.100</td>\n",
       "    </tr>\n",
       "    <tr>\n",
       "      <th>1</th>\n",
       "      <td>I317333</td>\n",
       "      <td>10/30/2016 9:58</td>\n",
       "      <td>C111565</td>\n",
       "      <td>Male</td>\n",
       "      <td>21</td>\n",
       "      <td>Shoes</td>\n",
       "      <td>3</td>\n",
       "      <td>1800.51</td>\n",
       "      <td>1620.459</td>\n",
       "      <td>Debit Card</td>\n",
       "      <td>South</td>\n",
       "      <td>Kentucky</td>\n",
       "      <td>Viaport Outlet</td>\n",
       "      <td>5401.53</td>\n",
       "      <td>540.153</td>\n",
       "    </tr>\n",
       "  </tbody>\n",
       "</table>\n",
       "</div>"
      ],
      "text/plain": [
       "  invoice_no     invoice_date customer_id  gender  age  category  quantity  \\\n",
       "0    I138884  10/30/2016 9:58     C241288  Female   28  Clothing         5   \n",
       "1    I317333  10/30/2016 9:58     C111565    Male   21     Shoes         3   \n",
       "\n",
       "   selling_price_per_unit  cost_price_per_unit payment_method region  \\\n",
       "0                 1500.40             1425.380    Credit Card  South   \n",
       "1                 1800.51             1620.459     Debit Card  South   \n",
       "\n",
       "      state   shopping_mall  Total_Sale  Total_Profit  \n",
       "0  Kentucky          Kanyon     7502.00       375.100  \n",
       "1  Kentucky  Viaport Outlet     5401.53       540.153  "
      ]
     },
     "execution_count": 184,
     "metadata": {},
     "output_type": "execute_result"
    }
   ],
   "source": [
    "df['Total_Sale']=df['quantity']*df['selling_price_per_unit']\n",
    "df.head(2)"
   ]
  },
  {
   "cell_type": "code",
   "execution_count": 194,
   "id": "4ce8bf2d-ea00-4594-b7f7-478a02e42787",
   "metadata": {},
   "outputs": [
    {
     "data": {
      "text/plain": [
       "region\n",
       "Central    58803471.74\n",
       "East       72280660.57\n",
       "South      40655491.64\n",
       "West       79825624.03\n",
       "Name: Total_Sale, dtype: float64"
      ]
     },
     "execution_count": 194,
     "metadata": {},
     "output_type": "execute_result"
    }
   ],
   "source": [
    "df.groupby('region')['Total_Sale'].sum()"
   ]
  },
  {
   "cell_type": "markdown",
   "id": "fefb09f1-94fc-48b1-b692-cb218fba0e1f",
   "metadata": {},
   "source": [
    "### 12. Sort Malls with average sales higher to lower?"
   ]
  },
  {
   "cell_type": "code",
   "execution_count": 188,
   "id": "26ea879c-bab3-43ea-9248-811c4a440ac5",
   "metadata": {},
   "outputs": [
    {
     "data": {
      "text/plain": [
       "Index(['invoice_no', 'invoice_date', 'customer_id', 'gender', 'age',\n",
       "       'category', 'quantity', 'selling_price_per_unit', 'cost_price_per_unit',\n",
       "       'payment_method', 'region', 'state', 'shopping_mall', 'Total_Sale',\n",
       "       'Total_Profit'],\n",
       "      dtype='object')"
      ]
     },
     "execution_count": 188,
     "metadata": {},
     "output_type": "execute_result"
    }
   ],
   "source": [
    "df.columns"
   ]
  },
  {
   "cell_type": "code",
   "execution_count": 192,
   "id": "bdb865e4-3d93-43ae-a077-43a2adecfa59",
   "metadata": {},
   "outputs": [
    {
     "data": {
      "text/plain": [
       "shopping_mall\n",
       "Zorlu Center        2573.248351\n",
       "Kanyon              2550.618396\n",
       "Mall of Istanbul    2543.276766\n",
       "Viaport Outlet      2523.835118\n",
       "Istinye Park        2523.186677\n",
       "Metropol AVM        2497.777108\n",
       "Metrocity           2485.030133\n",
       "Name: Total_Sale, dtype: float64"
      ]
     },
     "execution_count": 192,
     "metadata": {},
     "output_type": "execute_result"
    }
   ],
   "source": [
    "df.groupby('shopping_mall')['Total_Sale'].mean().sort_values(ascending=False)"
   ]
  },
  {
   "cell_type": "code",
   "execution_count": 200,
   "id": "e53b7e57-2c02-402c-b107-3b47afc696bf",
   "metadata": {},
   "outputs": [
    {
     "data": {
      "text/plain": [
       "2573.2483506978574"
      ]
     },
     "execution_count": 200,
     "metadata": {},
     "output_type": "execute_result"
    }
   ],
   "source": [
    "df[df['shopping_mall'] == 'Zorlu Center']['Total_Sale'].mean() # recheck "
   ]
  },
  {
   "cell_type": "markdown",
   "id": "d514fb1f-9c86-4bfa-b6db-1d79a40fd0ff",
   "metadata": {},
   "source": [
    "### 13. Sort categories with the highest profit margins display in bar plot?\n",
    "\n",
    "Profit Margin=(Total Sales/Total Profit)×100"
   ]
  },
  {
   "cell_type": "code",
   "execution_count": 206,
   "id": "c7e3f1a4-e488-402b-8d14-e319ece3770d",
   "metadata": {},
   "outputs": [
    {
     "data": {
      "text/plain": [
       "0        20.00\n",
       "1        10.00\n",
       "2        59.78\n",
       "3        29.98\n",
       "4         4.00\n",
       "         ...  \n",
       "99452     4.00\n",
       "99453     3.33\n",
       "99454     3.33\n",
       "99455    10.00\n",
       "99456     3.33\n",
       "Name: Profit_Margin, Length: 99457, dtype: float64"
      ]
     },
     "execution_count": 206,
     "metadata": {},
     "output_type": "execute_result"
    }
   ],
   "source": [
    "df['Profit_Margin'] = round(df['Total_Sale']/df['Total_Profit'],2)\n",
    "df['Profit_Margin']"
   ]
  },
  {
   "cell_type": "code",
   "execution_count": 232,
   "id": "90d8b72a-137b-4bba-bd24-0476e0ec89e9",
   "metadata": {},
   "outputs": [
    {
     "data": {
      "image/png": "[encoded data removed]",
      "text/plain": [
       "<Figure size 640x480 with 1 Axes>"
      ]
     },
     "metadata": {},
     "output_type": "display_data"
    }
   ],
   "source": [
    "df.groupby('category')['Profit_Margin'].sum().nlargest().plot(kind = 'bar')\n",
    "plt.title('Categories With The Highest Profit Margins')\n",
    "plt.show()"
   ]
  },
  {
   "cell_type": "code",
   "execution_count": 218,
   "id": "ff18cc69-2f74-493c-9640-b02ab0755d99",
   "metadata": {},
   "outputs": [
    {
     "data": {
      "text/plain": [
       "category\n",
       "Clothing           34487\n",
       "Cosmetics          15097\n",
       "Food & Beverage    14776\n",
       "Toys               10087\n",
       "Shoes              10034\n",
       "Souvenir            4999\n",
       "Technology          4996\n",
       "Books               4981\n",
       "Name: count, dtype: int64"
      ]
     },
     "execution_count": 218,
     "metadata": {},
     "output_type": "execute_result"
    }
   ],
   "source": [
    "df.category.value_counts()"
   ]
  },
  {
   "cell_type": "markdown",
   "id": "037e054f-3fa4-4859-b51a-55adeb675558",
   "metadata": {},
   "source": [
    "### 14.  What is the total number of transactions per region for each payment method?"
   ]
  },
  {
   "cell_type": "code",
   "execution_count": 234,
   "id": "fe90f586-e653-4dfd-903c-92d585076321",
   "metadata": {},
   "outputs": [
    {
     "data": {
      "text/plain": [
       "Index(['invoice_no', 'invoice_date', 'customer_id', 'gender', 'age',\n",
       "       'category', 'quantity', 'selling_price_per_unit', 'cost_price_per_unit',\n",
       "       'payment_method', 'region', 'state', 'shopping_mall', 'Total_Sale',\n",
       "       'Total_Profit', 'Profit_Margin'],\n",
       "      dtype='object')"
      ]
     },
     "execution_count": 234,
     "metadata": {},
     "output_type": "execute_result"
    }
   ],
   "source": [
    "df.columns"
   ]
  },
  {
   "cell_type": "code",
   "execution_count": 264,
   "id": "c44f9598-1692-4de5-b9cf-f1e978e6e947",
   "metadata": {},
   "outputs": [
    {
     "data": {
      "text/plain": [
       "array(['Credit Card', 'Debit Card', 'Cash'], dtype=object)"
      ]
     },
     "execution_count": 264,
     "metadata": {},
     "output_type": "execute_result"
    }
   ],
   "source": [
    "df['payment_method'].unique()"
   ]
  },
  {
   "cell_type": "code",
   "execution_count": 318,
   "id": "35ebea8e-e83c-437a-83c4-8167e59693bf",
   "metadata": {},
   "outputs": [
    {
     "data": {
      "text/html": [
       "<div>\n",
       "<style scoped>\n",
       "    .dataframe tbody tr th:only-of-type {\n",
       "        vertical-align: middle;\n",
       "    }\n",
       "\n",
       "    .dataframe tbody tr th {\n",
       "        vertical-align: top;\n",
       "    }\n",
       "\n",
       "    .dataframe thead th {\n",
       "        text-align: right;\n",
       "    }\n",
       "</style>\n",
       "<table border=\"1\" class=\"dataframe\">\n",
       "  <thead>\n",
       "    <tr style=\"text-align: right;\">\n",
       "      <th></th>\n",
       "      <th>region</th>\n",
       "      <th>payment_method</th>\n",
       "      <th>total_transactions</th>\n",
       "    </tr>\n",
       "  </thead>\n",
       "  <tbody>\n",
       "    <tr>\n",
       "      <th>0</th>\n",
       "      <td>Central</td>\n",
       "      <td>Cash</td>\n",
       "      <td>10319</td>\n",
       "    </tr>\n",
       "    <tr>\n",
       "      <th>1</th>\n",
       "      <td>Central</td>\n",
       "      <td>Credit Card</td>\n",
       "      <td>8140</td>\n",
       "    </tr>\n",
       "    <tr>\n",
       "      <th>2</th>\n",
       "      <td>Central</td>\n",
       "      <td>Debit Card</td>\n",
       "      <td>4640</td>\n",
       "    </tr>\n",
       "    <tr>\n",
       "      <th>3</th>\n",
       "      <td>East</td>\n",
       "      <td>Cash</td>\n",
       "      <td>12738</td>\n",
       "    </tr>\n",
       "    <tr>\n",
       "      <th>4</th>\n",
       "      <td>East</td>\n",
       "      <td>Credit Card</td>\n",
       "      <td>9817</td>\n",
       "    </tr>\n",
       "    <tr>\n",
       "      <th>5</th>\n",
       "      <td>East</td>\n",
       "      <td>Debit Card</td>\n",
       "      <td>5751</td>\n",
       "    </tr>\n",
       "    <tr>\n",
       "      <th>6</th>\n",
       "      <td>South</td>\n",
       "      <td>Cash</td>\n",
       "      <td>7227</td>\n",
       "    </tr>\n",
       "    <tr>\n",
       "      <th>7</th>\n",
       "      <td>South</td>\n",
       "      <td>Credit Card</td>\n",
       "      <td>5698</td>\n",
       "    </tr>\n",
       "    <tr>\n",
       "      <th>8</th>\n",
       "      <td>South</td>\n",
       "      <td>Debit Card</td>\n",
       "      <td>3284</td>\n",
       "    </tr>\n",
       "    <tr>\n",
       "      <th>9</th>\n",
       "      <td>West</td>\n",
       "      <td>Cash</td>\n",
       "      <td>14163</td>\n",
       "    </tr>\n",
       "    <tr>\n",
       "      <th>10</th>\n",
       "      <td>West</td>\n",
       "      <td>Credit Card</td>\n",
       "      <td>11276</td>\n",
       "    </tr>\n",
       "    <tr>\n",
       "      <th>11</th>\n",
       "      <td>West</td>\n",
       "      <td>Debit Card</td>\n",
       "      <td>6404</td>\n",
       "    </tr>\n",
       "  </tbody>\n",
       "</table>\n",
       "</div>"
      ],
      "text/plain": [
       "     region payment_method  total_transactions\n",
       "0   Central           Cash               10319\n",
       "1   Central    Credit Card                8140\n",
       "2   Central     Debit Card                4640\n",
       "3      East           Cash               12738\n",
       "4      East    Credit Card                9817\n",
       "5      East     Debit Card                5751\n",
       "6     South           Cash                7227\n",
       "7     South    Credit Card                5698\n",
       "8     South     Debit Card                3284\n",
       "9      West           Cash               14163\n",
       "10     West    Credit Card               11276\n",
       "11     West     Debit Card                6404"
      ]
     },
     "execution_count": 318,
     "metadata": {},
     "output_type": "execute_result"
    }
   ],
   "source": [
    "df.groupby(['region', 'payment_method']).size().reset_index(name='total_transactions') \n",
    "# size() only counts the number of rows, regardless of whether any column contains missing values or not.\n",
    "# reset_index(name='total_transactions') converts the column into dataframe"
   ]
  },
  {
   "cell_type": "markdown",
   "id": "3b048142-ea4e-4322-8964-48f1e95f91d7",
   "metadata": {},
   "source": [
    "### 15. How do sales in different categories compare between males and females?"
   ]
  },
  {
   "cell_type": "code",
   "execution_count": 290,
   "id": "a31b0149-3c76-42c5-9fd0-2230838fcfa0",
   "metadata": {},
   "outputs": [
    {
     "data": {
      "text/plain": [
       "Index(['invoice_no', 'invoice_date', 'customer_id', 'gender', 'age',\n",
       "       'category', 'quantity', 'selling_price_per_unit', 'cost_price_per_unit',\n",
       "       'payment_method', 'region', 'state', 'shopping_mall', 'Total_Sale',\n",
       "       'Total_Profit', 'Profit_Margin'],\n",
       "      dtype='object')"
      ]
     },
     "execution_count": 290,
     "metadata": {},
     "output_type": "execute_result"
    }
   ],
   "source": [
    "df.columns"
   ]
  },
  {
   "cell_type": "code",
   "execution_count": 314,
   "id": "916ed339-9dd6-43d4-a606-c155ecc9dde7",
   "metadata": {},
   "outputs": [
    {
     "data": {
      "text/html": [
       "<div>\n",
       "<style scoped>\n",
       "    .dataframe tbody tr th:only-of-type {\n",
       "        vertical-align: middle;\n",
       "    }\n",
       "\n",
       "    .dataframe tbody tr th {\n",
       "        vertical-align: top;\n",
       "    }\n",
       "\n",
       "    .dataframe thead th {\n",
       "        text-align: right;\n",
       "    }\n",
       "</style>\n",
       "<table border=\"1\" class=\"dataframe\">\n",
       "  <thead>\n",
       "    <tr style=\"text-align: right;\">\n",
       "      <th></th>\n",
       "      <th>category</th>\n",
       "      <th>gender</th>\n",
       "      <th>Total_Sale</th>\n",
       "    </tr>\n",
       "  </thead>\n",
       "  <tbody>\n",
       "    <tr>\n",
       "      <th>0</th>\n",
       "      <td>Books</td>\n",
       "      <td>Female</td>\n",
       "      <td>489420.75</td>\n",
       "    </tr>\n",
       "    <tr>\n",
       "      <th>1</th>\n",
       "      <td>Books</td>\n",
       "      <td>Male</td>\n",
       "      <td>345238.20</td>\n",
       "    </tr>\n",
       "    <tr>\n",
       "      <th>2</th>\n",
       "      <td>Clothing</td>\n",
       "      <td>Female</td>\n",
       "      <td>68260097.84</td>\n",
       "    </tr>\n",
       "    <tr>\n",
       "      <th>3</th>\n",
       "      <td>Clothing</td>\n",
       "      <td>Male</td>\n",
       "      <td>45754397.92</td>\n",
       "    </tr>\n",
       "    <tr>\n",
       "      <th>4</th>\n",
       "      <td>Cosmetics</td>\n",
       "      <td>Female</td>\n",
       "      <td>4068073.66</td>\n",
       "    </tr>\n",
       "    <tr>\n",
       "      <th>5</th>\n",
       "      <td>Cosmetics</td>\n",
       "      <td>Male</td>\n",
       "      <td>2728611.28</td>\n",
       "    </tr>\n",
       "    <tr>\n",
       "      <th>6</th>\n",
       "      <td>Food &amp; Beverage</td>\n",
       "      <td>Female</td>\n",
       "      <td>505322.60</td>\n",
       "    </tr>\n",
       "    <tr>\n",
       "      <th>7</th>\n",
       "      <td>Food &amp; Beverage</td>\n",
       "      <td>Male</td>\n",
       "      <td>344233.37</td>\n",
       "    </tr>\n",
       "    <tr>\n",
       "      <th>8</th>\n",
       "      <td>Shoes</td>\n",
       "      <td>Female</td>\n",
       "      <td>39425167.30</td>\n",
       "    </tr>\n",
       "    <tr>\n",
       "      <th>9</th>\n",
       "      <td>Shoes</td>\n",
       "      <td>Male</td>\n",
       "      <td>27128284.17</td>\n",
       "    </tr>\n",
       "    <tr>\n",
       "      <th>10</th>\n",
       "      <td>Souvenir</td>\n",
       "      <td>Female</td>\n",
       "      <td>382867.20</td>\n",
       "    </tr>\n",
       "    <tr>\n",
       "      <th>11</th>\n",
       "      <td>Souvenir</td>\n",
       "      <td>Male</td>\n",
       "      <td>252957.45</td>\n",
       "    </tr>\n",
       "    <tr>\n",
       "      <th>12</th>\n",
       "      <td>Technology</td>\n",
       "      <td>Female</td>\n",
       "      <td>34669950.00</td>\n",
       "    </tr>\n",
       "    <tr>\n",
       "      <th>13</th>\n",
       "      <td>Technology</td>\n",
       "      <td>Male</td>\n",
       "      <td>23230200.00</td>\n",
       "    </tr>\n",
       "    <tr>\n",
       "      <th>14</th>\n",
       "      <td>Toys</td>\n",
       "      <td>Female</td>\n",
       "      <td>2416046.08</td>\n",
       "    </tr>\n",
       "    <tr>\n",
       "      <th>15</th>\n",
       "      <td>Toys</td>\n",
       "      <td>Male</td>\n",
       "      <td>1564380.16</td>\n",
       "    </tr>\n",
       "  </tbody>\n",
       "</table>\n",
       "</div>"
      ],
      "text/plain": [
       "           category  gender   Total_Sale\n",
       "0             Books  Female    489420.75\n",
       "1             Books    Male    345238.20\n",
       "2          Clothing  Female  68260097.84\n",
       "3          Clothing    Male  45754397.92\n",
       "4         Cosmetics  Female   4068073.66\n",
       "5         Cosmetics    Male   2728611.28\n",
       "6   Food & Beverage  Female    505322.60\n",
       "7   Food & Beverage    Male    344233.37\n",
       "8             Shoes  Female  39425167.30\n",
       "9             Shoes    Male  27128284.17\n",
       "10         Souvenir  Female    382867.20\n",
       "11         Souvenir    Male    252957.45\n",
       "12       Technology  Female  34669950.00\n",
       "13       Technology    Male  23230200.00\n",
       "14             Toys  Female   2416046.08\n",
       "15             Toys    Male   1564380.16"
      ]
     },
     "execution_count": 314,
     "metadata": {},
     "output_type": "execute_result"
    }
   ],
   "source": [
    "df.groupby(['category', 'gender'])['Total_Sale'].sum().reset_index()"
   ]
  },
  {
   "cell_type": "code",
   "execution_count": 304,
   "id": "cf25c192-625a-4f9b-9cf9-2d321c246130",
   "metadata": {},
   "outputs": [
    {
     "data": {
      "text/plain": [
       "251565247.98"
      ]
     },
     "execution_count": 304,
     "metadata": {},
     "output_type": "execute_result"
    }
   ],
   "source": [
    "df.Total_Sale.sum()\n"
   ]
  },
  {
   "cell_type": "code",
   "execution_count": null,
   "id": "c8a5bd6d-011d-4a26-8f23-e8e606d86dba",
   "metadata": {},
   "outputs": [],
   "source": []
  }
 ],
 "metadata": {
  "kernelspec": {
   "display_name": "Python 3 (ipykernel)",
   "language": "python",
   "name": "python3"
  },
  "language_info": {
   "codemirror_mode": {
    "name": "ipython",
    "version": 3
   },
   "file_extension": ".py",
   "mimetype": "text/x-python",
   "name": "python",
   "nbconvert_exporter": "python",
   "pygments_lexer": "ipython3",
   "version": "3.12.7"
  }
 },
 "nbformat": 4,
 "nbformat_minor": 5
}
