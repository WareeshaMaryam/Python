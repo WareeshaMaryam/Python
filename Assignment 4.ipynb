{
 "cells": [
  {
   "cell_type": "markdown",
   "id": "c55cfce4-20bc-4fb6-b498-39dd3e8ff3c3",
   "metadata": {},
   "source": [
    "# Question 1. \n",
    "my_tuple = ( (1, 2, 3), [4, 5, 6], ('apple', 'banana', 'cherry'), [7, 8, 9] )\n",
    "•\tPrint all elements from my_tuple on a new line (using for loop)\n",
    "•\tCreate a new tuple by concatenating the first and last elements of my_tuple\n"
   ]
  },
  {
   "cell_type": "code",
   "execution_count": 50,
   "id": "24ff2dea-9a0e-4dc8-9fc4-cf40ee2bd54a",
   "metadata": {},
   "outputs": [
    {
     "name": "stdout",
     "output_type": "stream",
     "text": [
      "(1, 2, 3)\n",
      "[4, 5, 6]\n",
      "('apple', 'banana', 'cherry')\n",
      "[7, 8, 9]\n",
      "\n",
      "The new tuple by concatenating the first and last elements of my_tuple is (1, 2, 3, 7, 8, 9)\n"
     ]
    }
   ],
   "source": [
    "my_tuple = ( (1, 2, 3), [4, 5, 6], ('apple', 'banana', 'cherry'), [7, 8, 9] ) #Print all elements from my_tuple on a new line (using for loop)\n",
    "\n",
    "for i in my_tuple:\n",
    "    print(i)\n",
    "\n",
    "my_tuple_concate = my_tuple[0]+tuple( my_tuple[3] ) #new tuple by concatenating the first and last elements of my_tuple\n",
    "print(f\"\\nThe new tuple by concatenating the first and last elements of my_tuple is {my_tuple_concate}\")"
   ]
  },
  {
   "cell_type": "markdown",
   "id": "cfe59ddc-b414-48ad-8178-5b693030679e",
   "metadata": {},
   "source": [
    "# Question 2. \n",
    "inventory = { \"The Great Gatsby\": {\"price\": 10.99, \"quantity\": 5}, \"Rich dad poor dad\": {\"price\": 8.99, \"quantity\": 8}, \"Harry Potter\": {\"price\": 12.50, \"quantity\": 2}, }\n",
    "•\tAdd a new book in inventory using method and get all book titles using method\n",
    "•\tRemove a book if it's out of stock\n"
   ]
  },
  {
   "cell_type": "code",
   "execution_count": 52,
   "id": "154a698d-6ace-49a4-9912-0b257c6429a7",
   "metadata": {},
   "outputs": [
    {
     "name": "stdout",
     "output_type": "stream",
     "text": [
      "All book titles in inventory:\n",
      "['The Great Gatsby', 'Rich dad poor dad', 'Harry Potter', 'AlChemist']\n",
      "\n",
      "Final inventory is: \n",
      "{'The Great Gatsby': {'price': 10.99, 'quantity': 5}, 'Rich dad poor dad': {'price': 8.99, 'quantity': 8}, 'Harry Potter': {'price': 12.5, 'quantity': 2}}\n"
     ]
    }
   ],
   "source": [
    "inventory = { \"The Great Gatsby\": {\"price\": 10.99, \"quantity\": 5},\n",
    "             \"Rich dad poor dad\": {\"price\": 8.99, \"quantity\": 8},\n",
    "             \"Harry Potter\": {\"price\": 12.50, \"quantity\": 2},\n",
    "            }\n",
    "\n",
    "inventory[\"AlChemist\"]={\"price\":18, \"quantity\": 0} # Add a new book in inventory using method\n",
    "\n",
    "book_titles = list(inventory.keys()) # get all book titles using method \n",
    "print(f\"All book titles in inventory:\")\n",
    "print(book_titles)\n",
    "\n",
    "if inventory[\"AlChemist\"][\"quantity\"] == 0: #Remove a book if it's out of stock\n",
    "    del inventory[\"AlChemist\"]\n",
    "    print(f\"\\nFinal inventory is: \")\n",
    "    print(inventory)"
   ]
  },
  {
   "cell_type": "markdown",
   "id": "7bb66d60-9f8c-465b-a785-0b5729a39798",
   "metadata": {},
   "source": [
    "# Question 3. \n",
    "An ecommerce store stores information about its products in a nested dictionary. The outer dictionary uses product IDs as keys, and the inner dictionary stores product details like name, category, price, and stock quantity.\n",
    "products = { 101: {\"name\": \"Laptop\", \"category\": \"Electronics\", \"price\": 1200, \"stock\": 50}, 102: {\"name\": \"Shirt\", \"category\": \"Apparel\", \"price\": 25, \"stock\": 200}, 103: {\"name\": \"Coffee Maker\", \"category\": \"Home Appliances\", \"price\": 80, \"stock\": 30} }\n",
    "•\tIncrease the stock of the \"Shirt\" product (add 50 more units)\n",
    "•\tAdd a new product (e.g., \"Smartphone\")\n"
   ]
  },
  {
   "cell_type": "code",
   "execution_count": 54,
   "id": "6030326f-5f7a-4f35-87df-f31e1b817cc8",
   "metadata": {},
   "outputs": [
    {
     "name": "stdout",
     "output_type": "stream",
     "text": [
      "After increase the stock of the Shirt product\n",
      "{101: {'name': 'Laptop', 'category': 'Electronics', 'price': 1200, 'stock': 50}, 102: {'name': 'Shirt', 'category': 'Apparel', 'price': 25, 'stock': 250}, 103: {'name': 'Coffee Maker', 'category': 'Home Appliances', 'price': 80, 'stock': 30}}\n",
      "\n",
      "Print final products:\n",
      "{101: {'name': 'Laptop', 'category': 'Electronics', 'price': 1200, 'stock': 50}, 102: {'name': 'Shirt', 'category': 'Apparel', 'price': 25, 'stock': 250}, 103: {'name': 'Coffee Maker', 'category': 'Home Appliances', 'price': 80, 'stock': 30}, 104: {'name': 'Iron', 'category': 'Electronics', 'price': 2500, 'stock': 22}}\n"
     ]
    }
   ],
   "source": [
    "products = { \n",
    "    101: {\"name\": \"Laptop\", \"category\": \"Electronics\", \"price\": 1200, \"stock\": 50},\n",
    "    102: {\"name\": \"Shirt\", \"category\": \"Apparel\", \"price\": 25, \"stock\": 200},\n",
    "    103: {\"name\": \"Coffee Maker\", \"category\": \"Home Appliances\", \"price\": 80, \"stock\": 30}\n",
    "}\n",
    "products[102][\"stock\"] += 50 # Increase the stock of the \"Shirt\" product (add 50 more units)\n",
    "print(\"After increase the stock of the Shirt product\")\n",
    "print(products) \n",
    "\n",
    "products[104] = {\"name\": \"Iron\", #Add a new product (e.g., \"Smartphone\")\n",
    "                \"category\": \"Electronics\",\n",
    "                \"price\": 2500,\n",
    "                \"stock\": 22\n",
    "                }\n",
    "print(f\"\\nPrint final products:\")\n",
    "print(products)"
   ]
  },
  {
   "cell_type": "markdown",
   "id": "8fa063cc-3c59-464a-9ac7-9840b6453247",
   "metadata": {},
   "source": [
    "# Question 4. \n",
    "You are given a list that contains some duplicate items. Remove the duplicates by converting the list to a set.\n",
    "shopping_list = [\"apple\", \"banana\", \"apple\", \"orange\", \"banana\", \"grape\"]\n"
   ]
  },
  {
   "cell_type": "code",
   "execution_count": 56,
   "id": "80a36ed9-d07b-4962-a488-9270273c009e",
   "metadata": {},
   "outputs": [
    {
     "name": "stdout",
     "output_type": "stream",
     "text": [
      "Shopping list after removing duplicates:\n",
      "{'apple', 'orange', 'grape', 'banana'}\n"
     ]
    }
   ],
   "source": [
    "shopping_list = [\"apple\", \"banana\", \"apple\", \"orange\", \"banana\", \"grape\"]\n",
    "set_shopping_list =  set(shopping_list)\n",
    "print(\"Shopping list after removing duplicates:\")\n",
    "print(set_shopping_list)"
   ]
  },
  {
   "cell_type": "markdown",
   "id": "119bf20a-170e-42de-853f-699e83162536",
   "metadata": {},
   "source": [
    "# Question 5. \n",
    "You are managing a list of students enrolled in two different courses. You need to perform various set operations to understand the student enrollment. Task: Create two sets: one for students in \"Course A\" and one for students in \"Course B\". Find the students who are in \"Course A\" but not in \"Course B\" (difference). Find students who are only in one of the two courses (symmetric difference). course_a = {\"John\", \"Alice\", \"Bob\", \"David\"} course_b = {\"Alice\", \"Eve\", \"Charlie\", \"David\"}\n",
    "•\tFind students who are in Course A but not in Course B (difference)\n",
    "•\tFind students who are only in one of the two courses (symmetric difference)\n"
   ]
  },
  {
   "cell_type": "code",
   "execution_count": 58,
   "id": "5eb6ea6e-b382-4c63-80d6-83a497b50856",
   "metadata": {},
   "outputs": [
    {
     "name": "stdout",
     "output_type": "stream",
     "text": [
      "Students in Course A but not in Course B (difference):\n",
      "{'Bob', 'John'}\n",
      "\n",
      "Students only in one of the two courses (symmetric difference):\n",
      "{'Eve', 'Charlie', 'Bob', 'John'}\n"
     ]
    }
   ],
   "source": [
    "course_a = {\"John\", \"Alice\", \"Bob\", \"David\"}\n",
    "course_b = {\"Alice\", \"Eve\", \"Charlie\", \"David\"}\n",
    "only_in_course_a = course_a - course_b # Find students who are in Course A but not in Course B (difference)\n",
    "only_in_one_course = course_a ^ course_b # Find students who are only in one of the two courses (symmetric difference)\n",
    "\n",
    "print(\"Students in Course A but not in Course B (difference):\")\n",
    "print(only_in_course_a)\n",
    "\n",
    "print(\"\\nStudents only in one of the two courses (symmetric difference):\")\n",
    "print(only_in_one_course)"
   ]
  },
  {
   "cell_type": "markdown",
   "id": "50b3c6e8-1237-427e-90be-0c9802eddc07",
   "metadata": {},
   "source": [
    "# Question 6. \n",
    " Write a Python program that calculates the sum of all even numbers between 1 and 50 (inclusive) using a for loop.\n",
    "Hint\n",
    "\n",
    "1.\tInitialize a variable to hold the sum (e.g., sum_of_evens).\n",
    "2.\tUse a for loop to iterate through all numbers from 1 to 50.\n",
    "3.\tInside the loop, check if the number is even.\n",
    "4.\tIf the number is even, add it to sum_of_evens.\n",
    "5.\tAfter the loop finishes, print the total sum of all even numbers between 1 and 50.\n"
   ]
  },
  {
   "cell_type": "code",
   "execution_count": 60,
   "id": "4b24859b-8c5f-4615-869a-f643adee2804",
   "metadata": {},
   "outputs": [
    {
     "name": "stdout",
     "output_type": "stream",
     "text": [
      "The sum of all even numbers between 1 and 50 is:\n",
      " 650\n"
     ]
    }
   ],
   "source": [
    "sum_of_evens = 0 # Initialize a variable to hold the sum (e.g., sum_of_evens).\n",
    "for number in range(1,51): # Use a for loop to iterate through all numbers from 1 to 50.\n",
    "    if number % 2 == 0: # Inside the loop, check if the number is even.\n",
    "        sum_of_evens += number # If the number is even, add it to sum_of_evens.\n",
    "\n",
    "print(\"The sum of all even numbers between 1 and 50 is:\\n\", sum_of_evens) # After the loop finishes, print the total sum of all even numbers between 1 and 50."
   ]
  },
  {
   "cell_type": "markdown",
   "id": "b2125ed0-1f18-4552-9263-fb614763ef2a",
   "metadata": {},
   "source": [
    "# Question 7. \n",
    " Write a Python program that prints the multiplication table for a given number (between 1 and 10) using a for loop.\n",
    "\n",
    "\n",
    "Hint:\n",
    "1.\tAsk the user for a number between 1 and 10 .\n",
    "2.\tUse a for loop to iterate through the numbers from 1 to 10.\n",
    "3.\tFor each iteration, calculate the product of the given number and the current number in the loop.\n",
    "4.\tPrint the result in a readable format (e.g., 5 x 1 = 5).\n",
    "5.\tEnsure the program works correctly for any number between 1 and 10.\n",
    "\n",
    "\n",
    "Output Hint:\n",
    "\n",
    " 4 x 1 = 4\n",
    " 4 x 2 = 8\n",
    " 4 x 3 = 12\n",
    " 4 x 4 = 16\n",
    " 4 x 5 = 20\n",
    " 4 x 6 = 24\n",
    " 4 x 7 = 28\n",
    " 4 x 8 = 32\n",
    " 4 x 9 = 36\n",
    " 4 x 10 = 40\n",
    "\n"
   ]
  },
  {
   "cell_type": "code",
   "execution_count": 62,
   "id": "eeb646a1-dc2c-4872-ad39-80dd0400e034",
   "metadata": {},
   "outputs": [
    {
     "name": "stdin",
     "output_type": "stream",
     "text": [
      "Enter a number between 1 and 10:  2\n"
     ]
    },
    {
     "name": "stdout",
     "output_type": "stream",
     "text": [
      "2 X 1 = 2\n",
      "2 X 2 = 4\n",
      "2 X 3 = 6\n",
      "2 X 4 = 8\n",
      "2 X 5 = 10\n",
      "2 X 6 = 12\n",
      "2 X 7 = 14\n",
      "2 X 8 = 16\n",
      "2 X 9 = 18\n",
      "2 X 10 = 20\n"
     ]
    }
   ],
   "source": [
    "user_number = int(input(\"Enter a number between 1 and 10: \")) #Ask the user for a number between 1 and 10\n",
    "if user_number > 0 and user_number <= 10:#Use a for loop to iterate through the numbers from 1 to 10\n",
    "    for element in range(1,11):\n",
    "        print(f\"{user_number} X {element} = {user_number*element}\" )"
   ]
  },
  {
   "cell_type": "markdown",
   "id": "0ab9f751-5bc3-4eb4-98ec-e8e4e8768604",
   "metadata": {},
   "source": [
    "# Question 8. \n",
    " Power of a Number\n",
    "Write a Python program that takes a number and prints the powers of the number (starting from 1 to 10) using a while loop. For example, if the user inputs 3, the output should be:\n",
    "3^1 = 3\n",
    "3^2 = 9\n",
    "3^3 = 27\n",
    "... up to 3^10.\n"
   ]
  },
  {
   "cell_type": "code",
   "execution_count": 64,
   "id": "2ef8ce44-2605-41e0-9f4e-4dd8623fdc90",
   "metadata": {},
   "outputs": [
    {
     "name": "stdin",
     "output_type": "stream",
     "text": [
      "Enter a number 3\n"
     ]
    },
    {
     "name": "stdout",
     "output_type": "stream",
     "text": [
      "3^1 = 3\n",
      "3^2 = 9\n",
      "3^3 = 27\n",
      "3^4 = 81\n",
      "3^5 = 243\n",
      "3^6 = 729\n",
      "3^7 = 2187\n",
      "3^8 = 6561\n",
      "3^9 = 19683\n",
      "3^10 = 59049\n"
     ]
    }
   ],
   "source": [
    "user_input = int(input(\"Enter a number\"))\n",
    "if user_input > 0 and user_input <= 10:\n",
    "    for power in range(1,11):\n",
    "        print(f\"{user_input}^{power} = {user_input**power}\" )"
   ]
  },
  {
   "cell_type": "markdown",
   "id": "b7f4a1c3-bfa6-4d14-8beb-ecb3eb177c5e",
   "metadata": {},
   "source": [
    "# Question 9. \n",
    "Problem Statement: Write a Python program that takes an integer input from the user and counts down from that number to 0. The program should display the current number at each step until it reaches 0, at which point it should print a message indicating the countdown is finished\n",
    "Output Hint:\n",
    "Enter a number to start the countdown:  3\n",
    " 3\n",
    " 2\n",
    " 1\n",
    " 0\n",
    " Countdown finished!\n"
   ]
  },
  {
   "cell_type": "code",
   "execution_count": 66,
   "id": "6ff330d1-f40f-4161-a4ad-4ffefc2c3cd4",
   "metadata": {},
   "outputs": [
    {
     "name": "stdin",
     "output_type": "stream",
     "text": [
      "Enter a number to start the countdown:  5\n"
     ]
    },
    {
     "name": "stdout",
     "output_type": "stream",
     "text": [
      "5\n",
      "4\n",
      "3\n",
      "2\n",
      "1\n",
      "0\n",
      "Countdown finished!\n"
     ]
    }
   ],
   "source": [
    "\n",
    "count= int(input(\"Enter a number to start the countdown: \"))\n",
    "while count >= 0:\n",
    "    print(count)\n",
    "    count -= 1\n",
    "print(\"Countdown finished!\")"
   ]
  },
  {
   "cell_type": "markdown",
   "id": "96f18dae-4f4c-4804-b389-2ebce905d951",
   "metadata": {},
   "source": [
    "# Question 10. \n",
    "Write a Python program that takes an integer input n from the user and generates a right-angled triangle pattern of stars (*) with n rows. The first row should contain 1 star, the second row 2 stars, the third row 3 stars, and so on until the nth row.\n",
    "Ensure the stars in each row are separated by spaces, and each row starts on a new line.\n",
    "Pattern:\n",
    "*\n",
    "**\n",
    "***\n",
    "****\n",
    "*****"
   ]
  },
  {
   "cell_type": "code",
   "execution_count": 68,
   "id": "b82c9d4f-ed84-4b1b-af01-e2a98dec9ee7",
   "metadata": {},
   "outputs": [
    {
     "name": "stdin",
     "output_type": "stream",
     "text": [
      "Enter the number of rows for the triangle:  5\n"
     ]
    },
    {
     "name": "stdout",
     "output_type": "stream",
     "text": [
      "*\n",
      "* *\n",
      "* * *\n",
      "* * * *\n",
      "* * * * *\n"
     ]
    }
   ],
   "source": [
    "star = int(input(\"Enter the number of rows for the triangle: \"))\n",
    "for a in range(1,star+1): \n",
    "    print(\" \".join(\"*\" * a))"
   ]
  },
  {
   "cell_type": "code",
   "execution_count": null,
   "id": "b6e50ca3-81bb-43e4-93b8-ab6869acb747",
   "metadata": {},
   "outputs": [],
   "source": []
  },
  {
   "cell_type": "code",
   "execution_count": null,
   "id": "2d8b6478-98ea-48ff-82e1-56b485655c83",
   "metadata": {},
   "outputs": [],
   "source": []
  }
 ],
 "metadata": {
  "kernelspec": {
   "display_name": "Python 3 (ipykernel)",
   "language": "python",
   "name": "python3"
  },
  "language_info": {
   "codemirror_mode": {
    "name": "ipython",
    "version": 3
   },
   "file_extension": ".py",
   "mimetype": "text/x-python",
   "name": "python",
   "nbconvert_exporter": "python",
   "pygments_lexer": "ipython3",
   "version": "3.12.7"
  }
 },
 "nbformat": 4,
 "nbformat_minor": 5
}
