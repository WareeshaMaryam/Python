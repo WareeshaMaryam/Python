{
 "cells": [
  {
   "cell_type": "code",
   "execution_count": 7,
   "id": "16b94250-b966-4bbf-b181-6491272c2849",
   "metadata": {},
   "outputs": [],
   "source": [
    "salaries = ['20k', '40k', '50k', '60k', '35k', '89k','40k']\n"
   ]
  },
  {
   "cell_type": "code",
   "execution_count": null,
   "id": "0c9650ea-7971-4400-9c2c-5cf12167f64f",
   "metadata": {},
   "outputs": [],
   "source": []
  },
  {
   "cell_type": "markdown",
   "id": "6002013e-0385-46f0-af00-8998fbe0e5ac",
   "metadata": {},
   "source": [
    "#POINT 1\n"
   ]
  },
  {
   "cell_type": "code",
   "execution_count": null,
   "id": "ffc2e921-ed73-4d79-9896-768c7c1c320f",
   "metadata": {},
   "outputs": [],
   "source": []
  },
  {
   "cell_type": "code",
   "execution_count": null,
   "id": "90a35ccf-69d6-4cf1-9a5a-6de0504724c4",
   "metadata": {},
   "outputs": [],
   "source": []
  },
  {
   "cell_type": "code",
   "execution_count": null,
   "id": "feb2a4d9-1ea0-437d-98ee-fb393978ac84",
   "metadata": {},
   "outputs": [],
   "source": []
  },
  {
   "cell_type": "code",
   "execution_count": null,
   "id": "34293142-3b1c-4f72-a352-9ebcd6d78836",
   "metadata": {},
   "outputs": [],
   "source": []
  }
 ],
 "metadata": {
  "kernelspec": {
   "display_name": "Python 3 (ipykernel)",
   "language": "python",
   "name": "python3"
  },
  "language_info": {
   "codemirror_mode": {
    "name": "ipython",
    "version": 3
   },
   "file_extension": ".py",
   "mimetype": "text/x-python",
   "name": "python",
   "nbconvert_exporter": "python",
   "pygments_lexer": "ipython3",
   "version": "3.12.7"
  }
 },
 "nbformat": 4,
 "nbformat_minor": 5
}
