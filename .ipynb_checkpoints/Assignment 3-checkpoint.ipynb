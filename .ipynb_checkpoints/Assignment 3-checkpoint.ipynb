{
 "cells": [
  {
   "cell_type": "markdown",
   "id": "12a3f10a-5f42-4900-aa00-327cb4f5928d",
   "metadata": {},
   "source": [
    "# Question 1.\n",
    "The person must be 18 years or older. The person must have a credit score of 650 or higher. The person must have\n",
    "an annual income of at least 30000 dollars If the person has a credit score of 700 or higher, they may still be eligible\n",
    "with an income of 25000 dollars or more."
   ]
  },
  {
   "cell_type": "code",
   "execution_count": 24,
   "id": "21878a1e-ab44-412a-99f5-0595607e08a0",
   "metadata": {},
   "outputs": [
    {
     "name": "stdin",
     "output_type": "stream",
     "text": [
      "Enter your age:  345\n",
      "Enter your credit score:  34\n",
      "Enter your annual income in dollar:  345\n"
     ]
    },
    {
     "name": "stdout",
     "output_type": "stream",
     "text": [
      "Not eligible: Does not meet credit score and/or income requirements.\n"
     ]
    }
   ],
   "source": [
    "age = int(input(\"Enter your age: \"))\n",
    "credit = int(input(\"Enter your credit score: \"))\n",
    "income = int(input(\"Enter your annual income in dollar: \"))\n",
    "\n",
    "if age >= 18:\n",
    "    if credit >= 650 and income >= 30000:\n",
    "        print(\"Eligible for the loan.\")\n",
    "    elif credit >= 700 and income >= 25000:\n",
    "        print(\"Eligible for the loan.\")\n",
    "    else:\n",
    "        print(\"Not eligible: Does not meet credit score and/or income requirements.\")\n",
    "else:\n",
    "    print(\"Not eligible: Must be at least 18 years old.\")\n",
    "    \n"
   ]
  },
  {
   "cell_type": "markdown",
   "id": "7b210c11-5853-4955-8be2-086d42796368",
   "metadata": {},
   "source": [
    "# Question 2. \n",
    "Take the age as input.If the person is underage (age>= 18), show message: You are underage and don;t ask for experience.If the person is an adult, take years of experience as input and print: You have a lot of experience.(10+ years) You have moderate experience (5-9 years) You are relatively new (2-4 years)You are just starting out. (less than 2 years)"
   ]
  },
  {
   "cell_type": "code",
   "execution_count": 58,
   "id": "0324c0c4-29d9-4fe3-b097-56fef7f747f9",
   "metadata": {},
   "outputs": [
    {
     "name": "stdin",
     "output_type": "stream",
     "text": [
      "Enter your age:  90\n",
      "Enter your years of experience:  1\n"
     ]
    },
    {
     "name": "stdout",
     "output_type": "stream",
     "text": [
      "You are just starting out\n"
     ]
    }
   ],
   "source": [
    "employee_age = int(input(\"Enter your age: \"))\n",
    "if employee_age < 18:\n",
    "    print(\"you are underage\")\n",
    "else: \n",
    "    emloyee_experience = int(input(\"Enter your years of experience: \"))\n",
    "    if emloyee_experience >= 10:\n",
    "        print(\"You have a lot of experience\")\n",
    "    elif emloyee_experience >= 5:\n",
    "        print(\"You have moderate experience\")\n",
    "    elif emloyee_experience >= 2:\n",
    "        print(\"You are relatively new\")\n",
    "    else:\n",
    "        print(\"You are just starting out\")\n",
    "        "
   ]
  },
  {
   "cell_type": "markdown",
   "id": "0e95c689-74b9-4c9b-944e-f7324912d43c",
   "metadata": {},
   "source": [
    "# Question 3.\n",
    "Write a program to explore below variables\n",
    "a) Print their memory address (to check if python assigns same address of different variables having same element)\n",
    "b) Find memory size and append them in a list, use this list to find data type having least memory size\n",
    "c) Print final name of data type which has lowest memory\n",
    "Result will help a programmer to decide which variable is storing less memory and variable locations\n"
   ]
  },
  {
   "cell_type": "code",
   "execution_count": 65,
   "id": "65817d0a-8be7-4372-8ea8-5472d5836a29",
   "metadata": {},
   "outputs": [
    {
     "name": "stdout",
     "output_type": "stream",
     "text": [
      "Memory address of string_variable :  2542572428992\n",
      "Memory address of int_variable :  140710463089688\n",
      "Memory address of float_variable :  2540569919376\n",
      "Memory address of list_variable :  2540570884544\n"
     ]
    }
   ],
   "source": [
    "# a) rint their memory address (to check if python assigns same address of different variables having same element)\n",
    "string_variable = \"20\"\n",
    "int_variable = 20\n",
    "float_variable = 20.01\n",
    "list_variable = [20]\n",
    "\n",
    "print(\"Memory address of string_variable : \", id(string_variable))\n",
    "print(\"Memory address of int_variable : \", id(int_variable))\n",
    "print(\"Memory address of float_variable : \", id(float_variable))\n",
    "print(\"Memory address of list_variable : \", id(list_variable))"
   ]
  },
  {
   "cell_type": "code",
   "execution_count": 97,
   "id": "ac2f3d49-4707-4b83-bd11-c4c13a827c0d",
   "metadata": {},
   "outputs": [
    {
     "name": "stdout",
     "output_type": "stream",
     "text": [
      "float_variable has least memory size:  24  bytes\n"
     ]
    }
   ],
   "source": [
    "\n",
    "import sys\n",
    "\n",
    "memory_size = []\n",
    "memory_size.append(sys.getsizeof(string_variable))\n",
    "memory_size.append(sys.getsizeof(int_variable))\n",
    "memory_size.append(sys.getsizeof(float_variable))\n",
    "memory_size.append(sys.getsizeof(list_variable))\n",
    "\n",
    "mini_memosize = min(memory_size)\n",
    "\n",
    "\n",
    "if mini_memosize == memory_size[0]:\n",
    "    print(\"String_variable has least memory size: \" , mini_memosize , \" bytes\")\n",
    "elif mini_memosize == memory_size[1]:\n",
    "     print(\"int_variable has least memory size: \" , mini_memosize , \" bytes\")\n",
    "elif mini_memosize == memory_size[2]:\n",
    "     print(\"float_variable has least memory size: \" ,  mini_memosize , \" bytes\")\n",
    "else:\n",
    "    print(\"list_variable has least memory size: \" , mini_memosize , \" bytes\")\n"
   ]
  },
  {
   "cell_type": "markdown",
   "id": "299d83cb-c024-4e04-974a-8195ec392e12",
   "metadata": {},
   "source": [
    "# Question 4.\n",
    "Write a Python program that asks the user to enter an email address. The program should check if the email\n",
    "contains the characters @ and . (ignoring case). If either character is present, print &quot;Email format is valid.\n",
    "Otherwise, print Invalid email format;"
   ]
  },
  {
   "cell_type": "code",
   "execution_count": 110,
   "id": "4b4a03e6-9054-44c6-b962-e4f70b00778b",
   "metadata": {},
   "outputs": [
    {
     "name": "stdin",
     "output_type": "stream",
     "text": [
      "Enter your email address wareesha.maryam@jsbl.com\n"
     ]
    },
    {
     "name": "stdout",
     "output_type": "stream",
     "text": [
      "Email format is valid\n"
     ]
    }
   ],
   "source": [
    "email = input(\"Enter your email address\")\n",
    "if '@' in email and '.' in email:\n",
    "    print(\"Email format is valid\")\n",
    "else: \n",
    "    print(\"Email format is not valid\")"
   ]
  },
  {
   "cell_type": "markdown",
   "id": "08d46779-4de4-4f27-a587-962d063c347c",
   "metadata": {},
   "source": [
    "# Question 5. \n",
    "Write a python program to know data type of each element stored in a tuple, append the data types in a list.\n",
    "Show final output in a list as data types of tuple elements\n",
    "x = (11,22.333,\"apple\",[1,2,3,],('a','b'))"
   ]
  },
  {
   "cell_type": "code",
   "execution_count": 117,
   "id": "aa1152b3-5dda-4aa7-8e14-5495f40a24fb",
   "metadata": {},
   "outputs": [
    {
     "name": "stdout",
     "output_type": "stream",
     "text": [
      "Final output in a list as data types of tuple elements [<class 'int'>, <class 'float'>, <class 'str'>, <class 'list'>]\n"
     ]
    }
   ],
   "source": [
    "tuple_var = (11,22.333,\"apple\",[1,2,3,],('a','b'))\n",
    "new_list = []\n",
    "new_list.append(type(tuple_var[0]))\n",
    "new_list.append(type(tuple_var[1]))\n",
    "new_list.append(type(tuple_var[2]))\n",
    "new_list.append(type(tuple_var[3]))\n",
    "\n",
    "print(\"Final output in a list as data types of tuple elements\", new_list)\n"
   ]
  },
  {
   "cell_type": "markdown",
   "id": "09e7dc42-bae0-4324-94d8-cc9097bb0196",
   "metadata": {},
   "source": [
    "# Question 6. \n",
    "Write a Python program that: Checks if a given username exists in a list of active users.Verifies if the user is the admin using identity operators.\n",
    "Hints:\n",
    "Use a list of tuples where each tuple contains a username and role\n",
    "(\"alice\",\"admin\")\n",
    "(\"bob\",\"user\")\n",
    "(\"charlie\",\"moderator\")\n",
    "Use the in operator to check if the username exists in the list.\n",
    "Use the is operator to check if the user is the admin"
   ]
  },
  {
   "cell_type": "code",
   "execution_count": 148,
   "id": "a1288072-a0f3-4929-a457-6fe3b6faa768",
   "metadata": {},
   "outputs": [
    {
     "name": "stdin",
     "output_type": "stream",
     "text": [
      "Enter the user name charlie\n"
     ]
    },
    {
     "name": "stdout",
     "output_type": "stream",
     "text": [
      "username  charlie  exist\n",
      "User  charlie  is not the admin\n"
     ]
    }
   ],
   "source": [
    "active_user = [(\"alice\",\"admin\"), (\"bob\",\"user\"), (\"charlie\",\"moderator\")]\n",
    "username = input(\"Enter the user name\")\n",
    "username_exist = (username , \"admin\") in active_user or (username , \"user\") in active_user or (username , \"moderator\") in active_user #Use the in operator to check if the username exists in the list.\n",
    "username_admin = (username , \"admin\") in active_user #Use the is operator to check if the user is the admin\n",
    "if username_exist:\n",
    "    print(\"username \", username , \" exist\")\n",
    "    if username_admin:\n",
    "        print(\"User \", username , \" is the admin\")\n",
    "    else: \n",
    "         print(\"User \", username , \" is not the admin\")\n",
    "else:\n",
    "    print(\"username \", username , \" does not exist\")\n"
   ]
  },
  {
   "cell_type": "markdown",
   "id": "17b443c7-aa14-4458-bb52-eff590e8388d",
   "metadata": {},
   "source": [
    "# Question 7.\n",
    "person1 has same family as of person2, write a program to print relation between person1 and person2, if their data is \"father name','mother name','district','family number'] same (Print relation Siblings) also check person1 data with person3 which is cousin of person1 (Print relation Cousin)\n",
    "Hint:\n",
    "Use identity operator\n"
   ]
  },
  {
   "cell_type": "code",
   "execution_count": 176,
   "id": "66cb7bf6-f9c4-4387-9dec-0980e2e86d23",
   "metadata": {},
   "outputs": [
    {
     "name": "stdout",
     "output_type": "stream",
     "text": [
      "Warisha & Arisha are siblings\n",
      "Warisha & Mohsin are cousins\n"
     ]
    }
   ],
   "source": [
    "warisha_person = [\"Anwer Ali\" , \"Shazia\", \"Sindh\" , 6]\n",
    "arisha_person = warisha_person\n",
    "mohsin_person = [\"Hamid Ali\" , \"Sana\" , \"Sindh\" , 6 ]\n",
    "\n",
    "if warisha_person is arisha_person:\n",
    "    print(\"Warisha & Arisha are siblings\")\n",
    "else: \n",
    "    print(\"Warisha & Arisha are not siblings\")\n",
    "\n",
    "if warisha_person is not mohsin_person:\n",
    "        print(\"Warisha & Mohsin are cousins\")\n",
    "else:\n",
    "        print(\"Warisha & Mohisn are not cousins\")"
   ]
  },
  {
   "cell_type": "markdown",
   "id": "0b47cfa6-c33b-4899-a566-8df304f6fb1d",
   "metadata": {},
   "source": [
    "# Question 8.\n",
    "Write a Python program to store and display a book&#39;s title, author, year of publication, and price using a tuple.\n",
    "Instructions:\n",
    "Create a tuple to store the book details.\n",
    "Ask the user for the book's title, author, year, and price.\n",
    "Display the stored book information."
   ]
  },
  {
   "cell_type": "code",
   "execution_count": 184,
   "id": "7c5e6f4a-4a31-4230-9733-737edd11161f",
   "metadata": {},
   "outputs": [
    {
     "name": "stdin",
     "output_type": "stream",
     "text": [
      "Enter the book's title:  ocean\n",
      "Enter the author's name:  aghf\n",
      "Enter the year of publication:  34\n",
      "Enter the book's price:  432\n"
     ]
    },
    {
     "name": "stdout",
     "output_type": "stream",
     "text": [
      "Book information: \n",
      "Title:  ocean\n",
      "Author  aghf\n",
      "Year of publication:  34\n",
      "Price:  432.0\n"
     ]
    }
   ],
   "source": [
    "title= input(\"Enter the book's title: \")\n",
    "author = input(\"Enter the author's name: \")\n",
    "year = int(input(\"Enter the year of publication: \"))\n",
    "price = float(input(\"Enter the book's price: \"))\n",
    "\n",
    "book_details = [title,author,year,price]\n",
    "\n",
    "print(\"Book information: \")\n",
    "print(\"Title: \",book_details[0])\n",
    "print(\"Author \",book_details[1])\n",
    "print(\"Year of publication: \", book_details[2])\n",
    "print(\"Price: \" , book_details[3])\n",
    "\n",
    "\n"
   ]
  },
  {
   "cell_type": "markdown",
   "id": "6fb87b19-e7d6-4aca-9186-a03bbfa3f66b",
   "metadata": {},
   "source": [
    "# Question 9.\n",
    "Write a program to check if a user’s chosen subject is available in the list of offered subjects.\n",
    "Instructions:\n",
    "Given a list of subjects, ask the user to input a subject.\n",
    "Display whether the subject is available or not."
   ]
  },
  {
   "cell_type": "code",
   "execution_count": 208,
   "id": "961a70f0-4795-4f4f-806e-219dd9f94fd3",
   "metadata": {},
   "outputs": [
    {
     "name": "stdin",
     "output_type": "stream",
     "text": [
      "Enter the subject Psychology\n"
     ]
    },
    {
     "name": "stdout",
     "output_type": "stream",
     "text": [
      "Psychology  is available.\n"
     ]
    }
   ],
   "source": [
    "subject = [\"Accounts\",\"Communication\",\"Programming\",\"Psychology\", \"International Relation\"]\n",
    "user_subject = input(\"Enter the subject\")\n",
    "if user_subject in subject:\n",
    "    print(user_subject, \" is available.\")\n",
    "else:\n",
    "    print(user_subject, \" is not available.\")\n",
    "  "
   ]
  },
  {
   "cell_type": "markdown",
   "id": "12bec76c-dbef-4aec-92f1-27e1de44bf41",
   "metadata": {},
   "source": [
    "# Question 10. \n",
    "Write a Python program that performs the following tasks using tuple methods\n",
    "Create a tuple with multiple integer values, including duplicates.\n",
    "Prompt the user to input a number and find the index of its first occurrence in the tuple.\n",
    "Ask the user for another number and count how many times it appears in the tuple.\n",
    "Display appropriate messages based on the results\n"
   ]
  },
  {
   "cell_type": "code",
   "execution_count": 220,
   "id": "ed324cfd-1bb4-4292-919e-2ee8783d0305",
   "metadata": {},
   "outputs": [
    {
     "name": "stdin",
     "output_type": "stream",
     "text": [
      "Enter a number:  34\n"
     ]
    },
    {
     "name": "stdout",
     "output_type": "stream",
     "text": [
      "The number  34  first occurs at index  2\n"
     ]
    },
    {
     "name": "stdin",
     "output_type": "stream",
     "text": [
      "Enter another number:  78\n"
     ]
    },
    {
     "name": "stdout",
     "output_type": "stream",
     "text": [
      "The number  78  appears  2  time in the tuple\n"
     ]
    }
   ],
   "source": [
    "values = (45,78,34,23,45,67,78,90,33)\n",
    "user_value = int(input(\"Enter a number: \"))\n",
    "\n",
    "if user_value in values:\n",
    "    print(\"The number \",user_value, \" first occurs at index \", values.index(user_value))\n",
    "else:\n",
    "    print(\"The number \",user_value, \" is not in the tuple.\")\n",
    "\n",
    "\n",
    "user_value2 = int(input(\"Enter another number: \"))\n",
    "\n",
    "if user_value2 in values:\n",
    "    print(\"The number \",user_value2, \" appears \", values.count(user_value2), \" time in the tuple\")\n",
    "else:\n",
    "    print(\"The number \",user_value2, \" does not appears in the tuple.\")\n"
   ]
  },
  {
   "cell_type": "markdown",
   "id": "92dd83ec-597e-4250-9df0-05e379bdb81f",
   "metadata": {},
   "source": [
    "# Question for Hard working learners (Not Mandatory)\n",
    "Write a Python program that asks the user to enter the current temperature in Celsius and checks whether it&#39;s\n",
    "freezing, normal, or hot based on predefined temperature values.\n",
    "Assignment Requirements:\n",
    "Input: The user will be asked to enter the current temperature in Celsius.\n",
    "Predefined values:\n",
    "Freezing: -5\n",
    "Normal: 25\n",
    "Hot: 40"
   ]
  },
  {
   "cell_type": "code",
   "execution_count": 247,
   "id": "357c1ef2-90d7-4e6c-8370-dd9f89f26a44",
   "metadata": {},
   "outputs": [
    {
     "name": "stdin",
     "output_type": "stream",
     "text": [
      "Enter the current temperature in Celsius:  40\n"
     ]
    },
    {
     "name": "stdout",
     "output_type": "stream",
     "text": [
      "The temperature is Hot.\n"
     ]
    }
   ],
   "source": [
    "temp = int(input(\"Enter the current temperature in Celsius: \"))\n",
    "if temp <= -5:\n",
    "    print(\"The temperature is Freezing.\")\n",
    "elif temp <= 25:\n",
    "    print(\"The temperature is Normal.\")\n",
    "else:\n",
    "     print(\"The temperature is Hot.\")\n",
    "    "
   ]
  },
  {
   "cell_type": "code",
   "execution_count": null,
   "id": "15111700-4035-4108-980b-d4617abc32d5",
   "metadata": {},
   "outputs": [],
   "source": []
  }
 ],
 "metadata": {
  "kernelspec": {
   "display_name": "Python 3 (ipykernel)",
   "language": "python",
   "name": "python3"
  },
  "language_info": {
   "codemirror_mode": {
    "name": "ipython",
    "version": 3
   },
   "file_extension": ".py",
   "mimetype": "text/x-python",
   "name": "python",
   "nbconvert_exporter": "python",
   "pygments_lexer": "ipython3",
   "version": "3.12.7"
  }
 },
 "nbformat": 4,
 "nbformat_minor": 5
}
