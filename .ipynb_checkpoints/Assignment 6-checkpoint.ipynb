{
 "cells": [
  {
   "cell_type": "markdown",
   "id": "30baeb8d-32dc-4a89-b23d-0b0be8a7f91e",
   "metadata": {},
   "source": [
    "# Question 1:\n",
    "In a transportation system, we have two classes: \n",
    "\n",
    ".ElectricVehicle: A class that has a method charge() to charge the vehicle. \n",
    "\n",
    ".GasolineVehicle: A class that has a method fuel_up() to refuel the vehicle.\n",
    "\n",
    "Create a class HybridCar that inherits from both ElectricVehicle and GasolineVehicle. The HybridCar\n",
    "class should have a method drive() that prints a message showing the car is being driven. Instantiate\n",
    "an object of class HybridCar and demonstrate the usage of charge(), fuel_up(), and drive().\n",
    "\n",
    "Expected Output: \n",
    "\n",
    ".Charging the electric vehicle. \n",
    "\n",
    ".Filling up the gasoline tank. \n",
    "\n",
    ".Driving the hybrid car."
   ]
  },
  {
   "cell_type": "code",
   "execution_count": 16,
   "id": "c78061ed-6769-4037-833b-7b386425a938",
   "metadata": {},
   "outputs": [
    {
     "name": "stdout",
     "output_type": "stream",
     "text": [
      "Charging the electric vehicle.\n",
      "Filling up the gasoline tank.\n",
      "Driving the hybrid car.\n"
     ]
    }
   ],
   "source": [
    "class ElectricVehicle:\n",
    "    def charge(self):\n",
    "        print(\"Charging the electric vehicle.\")\n",
    "\n",
    "class GasolineVehicle:    \n",
    "    def fuel_up(self):\n",
    "        print(\"Filling up the gasoline tank.\")\n",
    "\n",
    "class HybridCar(ElectricVehicle,GasolineVehicle):\n",
    "    def drive(self):\n",
    "        print(\"Driving the hybrid car.\")\n",
    "\n",
    "\n",
    "hybrid = HybridCar()\n",
    "hybrid.charge()\n",
    "hybrid.fuel_up()\n",
    "hybrid.drive()\n"
   ]
  },
  {
   "cell_type": "markdown",
   "id": "a28b1148-8d4d-46bd-817b-6e13a6a27f65",
   "metadata": {},
   "source": [
    "# Question 2:\n",
    "Create a class Animal with a method make_sound(), which prints &quot;Animal makes a sound&quot;. Then,\n",
    "create two subclasses:\n",
    "\n",
    "Lion: Override the make_sound() method to print \"Roar\";.\n",
    "\n",
    "Cat: Override the make_sound() method to print \"Meow\";.\n",
    "\n",
    "Demonstrate polymorphism by calling make_sound() on instances of Lion and Cat."
   ]
  },
  {
   "cell_type": "code",
   "execution_count": 33,
   "id": "40b83446-622c-4e89-b2a9-f306a64f7ac8",
   "metadata": {},
   "outputs": [
    {
     "name": "stdout",
     "output_type": "stream",
     "text": [
      "Roar\n",
      "Meow\n"
     ]
    }
   ],
   "source": [
    "class Animal:\n",
    "    def make_sound():\n",
    "        print(\"Animal makes a sound\")\n",
    "class Lion(Animal):\n",
    "     def make_sound(self):\n",
    "        print(\"Roar\")\n",
    "class Cat(Animal):\n",
    "     def make_sound(self):\n",
    "        print(\"Meow\")\n",
    "\n",
    "lion = Lion()\n",
    "cat = Cat()\n",
    "\n",
    "lion.make_sound()\n",
    "cat.make_sound()"
   ]
  },
  {
   "cell_type": "markdown",
   "id": "0ffcfc28-ac69-433a-b27a-836126344abc",
   "metadata": {},
   "source": [
    "# Question 3:\n",
    "Create an abstract class SmartHomeDevice with two abstract methods:\n",
    "\n",
    " turn_on() (to turn the device on)\n",
    " \n",
    " turn_off() (to turn the device off)\n",
    " \n",
    "Then, create a Light class that inherits from SmartHomeDevice. Implement the methods turn_on()\n",
    "and turn_off() for a light device. The turn_on() method should print \"Light is ON\", and the turn_off()\n",
    "method should print \"Light is OFF\".\n",
    "\n",
    "Write a Python program to control the light device in a smart home.\n",
    "Expected Output:\n",
    "\n",
    "\n",
    " Turning on the light...\n",
    " \n",
    " Light is ON\n",
    " \n",
    " Turning off the light...\n",
    " \n",
    " Light is OFF"
   ]
  },
  {
   "cell_type": "code",
   "execution_count": 53,
   "id": "0a6019fd-3837-46df-9fb1-35ace9c32d1d",
   "metadata": {},
   "outputs": [
    {
     "name": "stdout",
     "output_type": "stream",
     "text": [
      "Turning on the light...\n",
      "Light is ON\n",
      "Turning off the light...\n",
      "Turning off the light...\n"
     ]
    }
   ],
   "source": [
    "class SmartHomeDevice:\n",
    "    def turn_on(self):\n",
    "        print(\"Turning on the light...\")\n",
    "    def turn_off(self):\n",
    "        print(\"Turning off the light...\")\n",
    "class Light(SmartHomeDevice):\n",
    "     def turn_on(self):\n",
    "        print(\"Light is ON\")\n",
    "     def turn_off(self):\n",
    "        print(\"Light is OFF\")\n",
    "\n",
    "device = SmartHomeDevice()\n",
    "light = Light()\n",
    "\n",
    "device.turn_on()\n",
    "light.turn_on()\n",
    "device.turn_off()\n",
    "device.turn_off()"
   ]
  },
  {
   "cell_type": "markdown",
   "id": "04eb788d-4def-45aa-a54f-a1071c7d7538",
   "metadata": {},
   "source": [
    "# Question 4:\n",
    "\n",
    "Create a class Greeting with a method greet() that can handle different numbers of arguments.\n",
    "\n",
    "If no argument is passed, it should print \"Hello!\".\n",
    "\n",
    "If one argument (a name) is passed, it should print \"Hello, [name]!\".\n",
    "\n",
    "If two arguments (a name and a greeting) are passed, it should print the greeting with the name (e.g., \"Good morning, [name]!\").\n",
    "\n",
    "Simulate method overloading using default arguments or variable-length arguments, and demonstrate the polymorphic behavior by calling greet() with different numbers of arguments.\n",
    "\n",
    "Expected Output:\n",
    "\n",
    "Hello!\n",
    "\n",
    "Hello, John!\n",
    "\n",
    "Good morning, John!\n"
   ]
  },
  {
   "cell_type": "code",
   "execution_count": 63,
   "id": "a365b3ed-b945-4ec9-a3b3-6df9f1020547",
   "metadata": {},
   "outputs": [
    {
     "name": "stdout",
     "output_type": "stream",
     "text": [
      "Hello\n",
      "Hello, Warisha!\n",
      "Morning, Warisha!\n"
     ]
    }
   ],
   "source": [
    "class Greeting:\n",
    "    def greet(self,*args):\n",
    "        if len(args) == 0:\n",
    "            print(\"Hello\")\n",
    "        elif len(args) == 1:\n",
    "            print(f\"Hello, {args[0]}!\")\n",
    "        elif len(args) == 2:\n",
    "            print(f\"{args[1]}, {args[0]}!\")\n",
    "\n",
    "greeting = Greeting()\n",
    "\n",
    "greeting.greet()\n",
    "greeting.greet('Warisha')\n",
    "greeting.greet('Warisha','Morning')"
   ]
  },
  {
   "cell_type": "markdown",
   "id": "6bf886af-ce7b-4ef3-8e48-85cef61064d5",
   "metadata": {},
   "source": [
    "# Question 5:\n",
    "\n",
    "Create a class CarRental to manage the rental of cars.\n",
    "\n",
    "The class should have private attributes for the car's name, price per day, and the number of rental days.\n",
    "Create a method to calculate the total rental cost and a method to set the rental days.\n",
    "Use getter and setter methods for modifying and accessing the car's information.\n",
    "Demonstrate encapsulation by creating an object of CarRental and calculating the total rental cost.\n",
    "\n",
    "Expected Output:\n",
    "\n",
    "Car Name: Toyota Camry\n",
    "\n",
    "Price Per Day: $50\n",
    "\n",
    "Rental Days: 5\n",
    "\n",
    "Total Rental Cost: $250\n",
    "\n",
    "\n"
   ]
  },
  {
   "cell_type": "code",
   "execution_count": 69,
   "id": "875f7a2f-41f1-43c5-a10e-eda706d73c00",
   "metadata": {},
   "outputs": [
    {
     "name": "stdout",
     "output_type": "stream",
     "text": [
      "Car Name: Toyota Camry\n",
      "Price Per Day: $50\n",
      "Rental Days: 5\n",
      "Total Rental Cost: $250\n"
     ]
    }
   ],
   "source": [
    "class CarRental:\n",
    "    def __init__(self, car_name, price_per_day):\n",
    "        self.__car_name = car_name\n",
    "        self.__price_per_day = price_per_day\n",
    "        self.__rental_days = 0\n",
    "\n",
    "   \n",
    "    def get_car_name(self):\n",
    "        return self.__car_name\n",
    "   \n",
    "    def set_car_name(self, car_name):\n",
    "        self.__car_name = car_name\n",
    "   \n",
    "    def get_price_per_day(self):\n",
    "        return self.__price_per_day\n",
    "\n",
    "    def set_price_per_day(self, price):\n",
    "        self.__price_per_day = price\n",
    "   \n",
    "    def get_rental_days(self):\n",
    "        return self.__rental_days\n",
    "\n",
    "    def set_rental_days(self, days):\n",
    "        self.__rental_days = days\n",
    "\n",
    "    def calculate_total_cost(self):\n",
    "        return self.__rental_days * self.__price_per_day\n",
    "\n",
    "car = CarRental(\"Toyota Camry\", 50)\n",
    "car.set_rental_days(5)\n",
    "\n",
    "print(f\"Car Name: {car.get_car_name()}\")\n",
    "print(f\"Price Per Day: ${car.get_price_per_day()}\")\n",
    "print(f\"Rental Days: {car.get_rental_days()}\")\n",
    "print(f\"Total Rental Cost: ${car.calculate_total_cost()}\")\n"
   ]
  },
  {
   "cell_type": "code",
   "execution_count": null,
   "id": "0092617e-e01f-4f52-baad-ded8a85ea405",
   "metadata": {},
   "outputs": [],
   "source": []
  }
 ],
 "metadata": {
  "kernelspec": {
   "display_name": "Python 3 (ipykernel)",
   "language": "python",
   "name": "python3"
  },
  "language_info": {
   "codemirror_mode": {
    "name": "ipython",
    "version": 3
   },
   "file_extension": ".py",
   "mimetype": "text/x-python",
   "name": "python",
   "nbconvert_exporter": "python",
   "pygments_lexer": "ipython3",
   "version": "3.12.7"
  }
 },
 "nbformat": 4,
 "nbformat_minor": 5
}
