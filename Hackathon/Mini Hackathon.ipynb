{
 "cells": [
  {
   "cell_type": "code",
   "execution_count": null,
   "id": "ef0da5f9-09a8-4905-9c12-f30d5a4f8a09",
   "metadata": {},
   "outputs": [],
   "source": []
  },
  {
   "cell_type": "code",
   "execution_count": null,
   "id": "34bf919d-cef9-4fcb-b800-b3133b37952e",
   "metadata": {},
   "outputs": [],
   "source": []
  },
  {
   "cell_type": "code",
   "execution_count": null,
   "id": "a2bbae3d-eb25-454e-895e-36e92bdbefff",
   "metadata": {},
   "outputs": [],
   "source": []
  },
  {
   "cell_type": "code",
   "execution_count": 3,
   "id": "37b0b8fa-c672-4fca-89fb-3e910aa5d440",
   "metadata": {},
   "outputs": [
    {
     "name": "stdout",
     "output_type": "stream",
     "text": [
      "Welcome to Quiz game\n",
      "Do you want to play a game? You need to answer 10 questions\n",
      "--------------------------------------------------\n",
      "Question no 1: What is the capital of Pakistan? \n",
      "a : Karachi\n",
      "b : Islamabad\n",
      "c : Lahore\n",
      "d : Quetta\n"
     ]
    },
    {
     "name": "stdin",
     "output_type": "stream",
     "text": [
      "Your answer a\n"
     ]
    },
    {
     "name": "stdout",
     "output_type": "stream",
     "text": [
      "Wrong! The correct answer is b.\n",
      "Question no 2: What is the sum of 5 + 6? \n",
      "a : 11\n",
      "b : 8\n",
      "c : 16\n",
      "d : 7\n"
     ]
    },
    {
     "name": "stdin",
     "output_type": "stream",
     "text": [
      "Your answer a\n"
     ]
    },
    {
     "name": "stdout",
     "output_type": "stream",
     "text": [
      "Correct!\n",
      "Question no 3: What is founder of Pakistan? \n",
      "a : Sir Syed Ahmed Khan\n",
      "b : Muhammad Ali Jinnah\n",
      "c : Allama Iqbal\n",
      "d : Donald\n"
     ]
    },
    {
     "name": "stdin",
     "output_type": "stream",
     "text": [
      "Your answer b\n"
     ]
    },
    {
     "name": "stdout",
     "output_type": "stream",
     "text": [
      "Correct!\n",
      "Question no 4: What is the answer 5/2? \n",
      "a : 2\n",
      "b : 5\n",
      "c : 1\n",
      "d : 3\n"
     ]
    },
    {
     "name": "stdin",
     "output_type": "stream",
     "text": [
      "Your answer b\n"
     ]
    },
    {
     "name": "stdout",
     "output_type": "stream",
     "text": [
      "Wrong! The correct answer is a.\n",
      "Question no 5: Which is the easiest language to learn programming? \n",
      "a : Python\n",
      "b : Javascript\n",
      "c : c++\n",
      "d : Java\n"
     ]
    },
    {
     "name": "stdin",
     "output_type": "stream",
     "text": [
      "Your answer c\n"
     ]
    },
    {
     "name": "stdout",
     "output_type": "stream",
     "text": [
      "Wrong! The correct answer is a.\n",
      "Question no 6: What is our mother tongue? \n",
      "a : Urdu\n",
      "b : English\n",
      "c : Persian\n",
      "d : Pashto\n"
     ]
    },
    {
     "name": "stdin",
     "output_type": "stream",
     "text": [
      "Your answer c\n"
     ]
    },
    {
     "name": "stdout",
     "output_type": "stream",
     "text": [
      "Wrong! The correct answer is a.\n",
      "Question no 7: Who is the national poet of Pakistan? \n",
      "a : Sir Syed Ahmed Khan\n",
      "b : Muhammad Ali Jinnah\n",
      "c : Allama Iqbal\n",
      "d : Donald\n"
     ]
    },
    {
     "name": "stdin",
     "output_type": "stream",
     "text": [
      "Your answer c\n"
     ]
    },
    {
     "name": "stdout",
     "output_type": "stream",
     "text": [
      "Correct!\n",
      "Question no 8: What is the the sum? 3+3? \n",
      "a : 3\n",
      "b : 6\n",
      "c : 7\n",
      "d : 6\n"
     ]
    },
    {
     "name": "stdin",
     "output_type": "stream",
     "text": [
      "Your answer d\n"
     ]
    },
    {
     "name": "stdout",
     "output_type": "stream",
     "text": [
      "Correct!\n",
      "Question no 9: What is founder of India? \n",
      "a : Sir Syed Ahmed Khan\n",
      "b : Muhammad Ali Jinnah\n",
      "c : Allama Iqbal\n",
      "d : Gandhi\n"
     ]
    },
    {
     "name": "stdin",
     "output_type": "stream",
     "text": [
      "Your answer d\n"
     ]
    },
    {
     "name": "stdout",
     "output_type": "stream",
     "text": [
      "Correct!\n",
      "Question no 10: what will be the answer? of 11+12? \n",
      "a : 18\n",
      "b : 13\n",
      "c : 11\n",
      "d : 9\n"
     ]
    },
    {
     "name": "stdin",
     "output_type": "stream",
     "text": [
      "Your answer a\n"
     ]
    },
    {
     "name": "stdout",
     "output_type": "stream",
     "text": [
      "Wrong! The correct answer is b.\n",
      "--------------------------------------------------\n",
      "Quiz Over! You scored 5/10 \n",
      "Thank you for playning\n"
     ]
    }
   ],
   "source": [
    "def quiz():\n",
    "    print('Welcome to Quiz game')\n",
    "    print('Do you want to play a game? You need to answer 10 questions')\n",
    "    print(\"-\" *50)\n",
    "    questions = [\n",
    "        {'question': \"What is the capital of Pakistan?\",\n",
    "         'options': {'a': 'Karachi','b':'Islamabad', 'c': 'Lahore', 'd':'Quetta'},\n",
    "         'answer' : 'b'\n",
    "        },\n",
    "         {'question': \"What is the sum of 5 + 6?\",\n",
    "         'options': {'a': '11','b':'8', 'c': '16', 'd':'7'},\n",
    "         'answer' : 'a'\n",
    "        },\n",
    "         {'question': \"What is founder of Pakistan?\",\n",
    "         'options': {'a': 'Sir Syed Ahmed Khan','b':'Muhammad Ali Jinnah', 'c': 'Allama Iqbal', 'd':'Donald'},\n",
    "         'answer' : 'b'\n",
    "        },\n",
    "        {'question': \"What is the answer 5/2?\",\n",
    "         'options': {'a': '2','b':'5', 'c': '1', 'd':'3'},\n",
    "         'answer' : 'a'\n",
    "        },\n",
    "        {'question': \"Which is the easiest language to learn programming?\",\n",
    "         'options': {'a': 'Python','b':'Javascript', 'c': 'c++', 'd':'Java'},\n",
    "         'answer' : 'a'\n",
    "        },\n",
    "        {'question': \"What is our mother tongue?\",\n",
    "         'options': {'a': 'Urdu','b':'English', 'c': 'Persian', 'd':'Pashto'},\n",
    "         'answer' : 'a'\n",
    "        },\n",
    "        {'question': \"Who is the national poet of Pakistan?\",\n",
    "         'options': {'a': 'Sir Syed Ahmed Khan','b':'Muhammad Ali Jinnah', 'c': 'Allama Iqbal', 'd':'Donald'},\n",
    "         'answer' : 'c'\n",
    "        },\n",
    "        {'question': \"What is the the sum? 3+3?\",\n",
    "         'options': {'a': '3','b':'6', 'c': '7', 'd':'6'},\n",
    "         'answer' : 'd'\n",
    "        },\n",
    "        {'question': \"What is founder of India?\",\n",
    "         'options': {'a': 'Sir Syed Ahmed Khan','b':'Muhammad Ali Jinnah', 'c': 'Allama Iqbal', 'd':'Gandhi'},\n",
    "         'answer' : 'd'\n",
    "        },\n",
    "        {'question': \"what will be the answer? of 11+12?\",\n",
    "         'options': {'a': '18','b':'13', 'c': '11', 'd':'9'},\n",
    "         'answer' : 'b'\n",
    "        }\n",
    "        \n",
    "        \n",
    "    \n",
    "    ]\n",
    "    score = 0      \n",
    "    for i,q in enumerate(questions):\n",
    "        print(f\"Question no {i+1}: {q['question']} \")\n",
    "        for option,answer in q['options'].items():\n",
    "            print(f\"{option} : {answer}\")\n",
    "        user_input = input('Your answer')\n",
    "        if user_input == q['answer']:\n",
    "            print('Correct!')\n",
    "            score += 1\n",
    "        else:\n",
    "            print(f\"Wrong! The correct answer is {q['answer']}.\")\n",
    "\n",
    "    print('-'*50)\n",
    "    print(f\"Quiz Over! You scored {score}/{len(questions)} \")\n",
    "    print('Thank you for playning')\n",
    "        \n",
    "\n",
    "\n",
    "quiz()"
   ]
  },
  {
   "cell_type": "code",
   "execution_count": null,
   "id": "ae4ab176-7edc-42b8-807c-c1a7fc74f39a",
   "metadata": {},
   "outputs": [],
   "source": []
  },
  {
   "cell_type": "code",
   "execution_count": null,
   "id": "e2572bc0-f866-4fb5-ba80-f75c29253a17",
   "metadata": {},
   "outputs": [],
   "source": []
  },
  {
   "cell_type": "code",
   "execution_count": null,
   "id": "cce713f3-41fa-4381-8b31-6d280d043c48",
   "metadata": {},
   "outputs": [
    {
     "name": "stdout",
     "output_type": "stream",
     "text": [
      "Welcome to Quiz game\n",
      "Do you want to play a game? You need to answer 10 questions\n",
      "--------------------------------------------------\n",
      "Question no 1: What is the capital of Pakistan? \n",
      "a : Karachi\n",
      "b : Islamabad\n",
      "c : Lahore\n",
      "d : Quetta\n"
     ]
    }
   ],
   "source": [
    "\n",
    "def quiz():\n",
    "    print('Welcome to Quiz game')\n",
    "    print('Do you want to play a game? You need to answer 10 questions')\n",
    "    print(\"-\" *50)\n",
    "    questions = [\n",
    "        {'question': \"What is the capital of Pakistan?\",\n",
    "         'options': {'a': 'Karachi','b':'Islamabad', 'c': 'Lahore', 'd':'Quetta'},\n",
    "         'answer' : 'b'\n",
    "        },\n",
    "         {'question': \"What is the sum of 5 + 6?\",\n",
    "         'options': {'a': '11','b':'8', 'c': '16', 'd':'7'},\n",
    "         'answer' : 'a'\n",
    "        },\n",
    "         {'question': \"What is founder of Pakistan?\",\n",
    "         'options': {'a': 'Sir Syed Ahmed Khan','b':'Muhammad Ali Jinnah', 'c': 'Allama Iqbal', 'd':'Donald'},\n",
    "         'answer' : 'b'\n",
    "        },\n",
    "        {'question': \"What is the answer 5/2?\",\n",
    "         'options': {'a': '2','b':'5', 'c': '1', 'd':'3'},\n",
    "         'answer' : 'a'\n",
    "        },\n",
    "        {'question': \"Which is the easiest language to learn programming?\",\n",
    "         'options': {'a': 'Python','b':'Javascript', 'c': 'c++', 'd':'Java'},\n",
    "         'answer' : 'a'\n",
    "        },\n",
    "        {'question': \"What is our mother tongue?\",\n",
    "         'options': {'a': 'Urdu','b':'English', 'c': 'Persian', 'd':'Pashto'},\n",
    "         'answer' : 'a'\n",
    "        },\n",
    "        {'question': \"Who is the national poet of Pakistan?\",\n",
    "         'options': {'a': 'Sir Syed Ahmed Khan','b':'Muhammad Ali Jinnah', 'c': 'Allama Iqbal', 'd':'Donald'},\n",
    "         'answer' : 'c'\n",
    "        },\n",
    "        {'question': \"What is the the sum? 3+3?\",\n",
    "         'options': {'a': '3','b':'6', 'c': '7', 'd':'6'},\n",
    "         'answer' : 'd'\n",
    "        },\n",
    "        {'question': \"What is founder of India?\",\n",
    "         'options': {'a': 'Sir Syed Ahmed Khan','b':'Muhammad Ali Jinnah', 'c': 'Allama Iqbal', 'd':'Gandhi'},\n",
    "         'answer' : 'd'\n",
    "        },\n",
    "        {'question': \"what will be the answer? of 11+12?\",\n",
    "         'options': {'a': '18','b':'13', 'c': '11', 'd':'9'},\n",
    "         'answer' : 'b'\n",
    "        }\n",
    "        \n",
    "        \n",
    "    \n",
    "    ]\n",
    "    score = 0      \n",
    "    for i,q in enumerate(questions):\n",
    "        print(f\"Question no {i+1}: {q['question']} \")\n",
    "        for option,answer in q['options'].items():\n",
    "            print(f\"{option} : {answer}\")\n",
    "        user_input = input('Your answer')\n",
    "        try:\n",
    "            if user_input == q['answer']:\n",
    "                print('Correct!')\n",
    "                score += 1\n",
    "            else:\n",
    "                print(f\"Wrong! The correct answer is {q['answer']}.\")\n",
    "            \n",
    "        except:\n",
    "            ('Invalid answer! Enter only options(a,b,c,d')\n",
    "        \n",
    "\n",
    "    print('-'*50)\n",
    "    print(f\"You scored {score}/{len(questions)} \")\n",
    "    print('Thank you for playning')\n",
    "        \n",
    "\n",
    "\n",
    "quiz()"
   ]
  },
  {
   "cell_type": "code",
   "execution_count": null,
   "id": "44c8faef-c533-4194-a191-bbeb2bde6fa3",
   "metadata": {},
   "outputs": [],
   "source": []
  }
 ],
 "metadata": {
  "kernelspec": {
   "display_name": "Python 3 (ipykernel)",
   "language": "python",
   "name": "python3"
  },
  "language_info": {
   "codemirror_mode": {
    "name": "ipython",
    "version": 3
   },
   "file_extension": ".py",
   "mimetype": "text/x-python",
   "name": "python",
   "nbconvert_exporter": "python",
   "pygments_lexer": "ipython3",
   "version": "3.12.7"
  }
 },
 "nbformat": 4,
 "nbformat_minor": 5
}
