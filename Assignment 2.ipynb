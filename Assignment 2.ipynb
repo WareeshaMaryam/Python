{
 "cells": [
  {
   "cell_type": "code",
   "execution_count": 1,
   "id": "799478a5-8218-46c3-b61f-19fb44559258",
   "metadata": {},
   "outputs": [
    {
     "name": "stdin",
     "output_type": "stream",
     "text": [
      "Enter your age :  34\n"
     ]
    },
    {
     "name": "stdout",
     "output_type": "stream",
     "text": [
      "Adult\n"
     ]
    }
   ],
   "source": [
    "#Question1. Age Group Classification:\n",
    "age = int(input(\"Enter your age : \"))\n",
    "if age <= 12:\n",
    "    print(\"Child\")\n",
    "elif age <= 13:\n",
    "    print(\"Teenager\")\n",
    "elif age <= 64:\n",
    "    print(\"Adult\")\n",
    "else: print(\"older\")\n"
   ]
  },
  {
   "cell_type": "code",
   "execution_count": 2,
   "id": "3c759386-707a-4216-bf95-509296609119",
   "metadata": {},
   "outputs": [
    {
     "name": "stdin",
     "output_type": "stream",
     "text": [
      "Enter the purchase amount  3245\n"
     ]
    },
    {
     "name": "stdout",
     "output_type": "stream",
     "text": [
      "Your are the regular member with the amount of 3245\n"
     ]
    }
   ],
   "source": [
    "# Question2. Checking for eligibility for discount\n",
    "amount = int(input(\"Enter the purchase amount \"))\n",
    "if (amount >= 1000) and amount < 2000:\n",
    "    print(\"Your are the premium member with the amount of\", amount)\n",
    "elif amount >= 2000:\n",
    "    print(\"Your are the regular member with the amount of\", amount)\n",
    "else: print(\"Not eligible for the discount\")"
   ]
  },
  {
   "cell_type": "code",
   "execution_count": 3,
   "id": "2c74c3ea-2505-45c4-a04a-88b44403c30d",
   "metadata": {},
   "outputs": [
    {
     "name": "stdin",
     "output_type": "stream",
     "text": [
      "Enter your age :  435\n",
      "Enter the citizenship status: citizen/non-citizen lkjfd\n"
     ]
    },
    {
     "name": "stdout",
     "output_type": "stream",
     "text": [
      "you are not eligible\n"
     ]
    }
   ],
   "source": [
    "# Question3 Voting Eligibility Check\n",
    "age1 = int(input(\"Enter your age : \"))\n",
    "status = input(\"Enter the citizenship status: citizen/non-citizen\")\n",
    "if (age1 >= 18) and (status == \"citizen\" or status == \"Citizen\" or status == \"CITIZEN\" ):\n",
    "    print(\"you are eligible for vote\")\n",
    "else:\n",
    "    print(\"you are not eligible\")"
   ]
  },
  {
   "cell_type": "code",
   "execution_count": 27,
   "id": "51230f70-0908-4285-8ec9-6dce6a19c0da",
   "metadata": {},
   "outputs": [
    {
     "name": "stdin",
     "output_type": "stream",
     "text": [
      "Enter employee's performance rating (excellent/good/satisfactory):  none\n",
      "Enter employee's years of service:  3\n"
     ]
    },
    {
     "name": "stdout",
     "output_type": "stream",
     "text": [
      "You are not eligible for bonus\n"
     ]
    }
   ],
   "source": [
    "# Question4 Employee salary bonus eligibility\n",
    "rating = input(\"Enter employee's performance rating (excellent/good/satisfactory): \").lower()\n",
    "year = int(input(\"Enter employee's years of service: \"))\n",
    "\n",
    "if (year >= 15) and (rating == \"satisfactory\"):\n",
    "    print(\"You are eligible for bonus\")\n",
    "elif (year >= 10) and (rating == \"good\"):\n",
    "    print(\"You are eligible for bonus\")\n",
    "elif (year >= 5) and (rating == \"excellent\"):\n",
    "    print(\"You are eligible for bonus\")\n",
    "else:\n",
    "    print(\"You are not eligible for bonus\")\n",
    "\n",
    "    "
   ]
  },
  {
   "cell_type": "code",
   "execution_count": 53,
   "id": "e1e9222d-5360-40d7-a798-3ceb641ce2b3",
   "metadata": {},
   "outputs": [
    {
     "data": {
      "text/plain": [
       "\"I'm learning Python programming\""
      ]
     },
     "execution_count": 53,
     "metadata": {},
     "output_type": "execute_result"
    }
   ],
   "source": [
    "# Question5 \n",
    "text = \"I'm learning Python programming\";\n",
    "text"
   ]
  },
  {
   "cell_type": "code",
   "execution_count": 55,
   "id": "801c63d0-4ad7-4e7a-873c-66cdb3fabcb2",
   "metadata": {},
   "outputs": [
    {
     "data": {
      "text/plain": [
       "\"I'm_learning_Python_programming\""
      ]
     },
     "execution_count": 55,
     "metadata": {},
     "output_type": "execute_result"
    }
   ],
   "source": [
    "text_replace = text.replace(\" \", \"_\")\n",
    "text_replace"
   ]
  },
  {
   "cell_type": "code",
   "execution_count": 67,
   "id": "da85cade-2b80-41df-99ce-27f7c8072edc",
   "metadata": {},
   "outputs": [
    {
     "data": {
      "text/plain": [
       "3"
      ]
     },
     "execution_count": 67,
     "metadata": {},
     "output_type": "execute_result"
    }
   ],
   "source": [
    "text_count = text_replace.count(\"_\")\n",
    "text_count"
   ]
  },
  {
   "cell_type": "code",
   "execution_count": 75,
   "id": "3e632d71-d1a3-4216-9223-46390041c3fe",
   "metadata": {},
   "outputs": [
    {
     "data": {
      "text/plain": [
       "3"
      ]
     },
     "execution_count": 75,
     "metadata": {},
     "output_type": "execute_result"
    }
   ],
   "source": [
    "text_find = text_replace.find('_')\n",
    "text_find"
   ]
  },
  {
   "cell_type": "code",
   "execution_count": 5,
   "id": "9726872f-5548-41f5-93f9-090de4e1c924",
   "metadata": {},
   "outputs": [
    {
     "name": "stdout",
     "output_type": "stream",
     "text": [
      "Believe you can and you're halfway th\n"
     ]
    }
   ],
   "source": [
    "# Question6\n",
    "string = \"Believe you can and you're halfway there\"\n",
    "print(string[:-3])"
   ]
  },
  {
   "cell_type": "code",
   "execution_count": 7,
   "id": "62ffe019-e83f-4028-8bc5-183066dca438",
   "metadata": {},
   "outputs": [
    {
     "name": "stdout",
     "output_type": "stream",
     "text": [
      "Bleeyucnadyur afa hr\n"
     ]
    }
   ],
   "source": [
    "print(string[::2])"
   ]
  },
  {
   "cell_type": "code",
   "execution_count": 9,
   "id": "c0247726-79c2-4acd-90c7-314fd107206d",
   "metadata": {},
   "outputs": [
    {
     "name": "stdout",
     "output_type": "stream",
     "text": [
      "ereht yawflah er'uoy dna nac uoy eveileB\n"
     ]
    }
   ],
   "source": [
    "print(string[::-1])"
   ]
  },
  {
   "cell_type": "code",
   "execution_count": 13,
   "id": "178b4d19-0507-401e-98cf-b76bc54ec173",
   "metadata": {},
   "outputs": [
    {
     "name": "stdout",
     "output_type": "stream",
     "text": [
      "['Hello', 'World,', 'We', 'are', 'learning', 'Python']\n"
     ]
    }
   ],
   "source": [
    "# Question7 \n",
    "sentence = \"Hello World, We are learning Python\"\n",
    "words = sentence.split()\n",
    "print(words)\n"
   ]
  },
  {
   "cell_type": "code",
   "execution_count": 15,
   "id": "2389e9d5-9ee7-4799-8db1-f2c0fcd1023e",
   "metadata": {},
   "outputs": [
    {
     "data": {
      "text/plain": [
       "['Python', 'learning', 'are', 'We', 'World,', 'Hello']"
      ]
     },
     "execution_count": 15,
     "metadata": {},
     "output_type": "execute_result"
    }
   ],
   "source": [
    "reversed_word = words[::-1]\n",
    "reversed_word"
   ]
  },
  {
   "cell_type": "code",
   "execution_count": 17,
   "id": "6c680f7a-c482-43dd-916a-6a6415059af6",
   "metadata": {},
   "outputs": [
    {
     "data": {
      "text/plain": [
       "'Python learning are We World, Hello'"
      ]
     },
     "execution_count": 17,
     "metadata": {},
     "output_type": "execute_result"
    }
   ],
   "source": [
    "join_words = \" \".join(reversed_word)\n",
    "join_words"
   ]
  },
  {
   "cell_type": "code",
   "execution_count": 21,
   "id": "28e12d85-3620-422b-8660-3d0081fab746",
   "metadata": {},
   "outputs": [
    {
     "name": "stdout",
     "output_type": "stream",
     "text": [
      "12345\n"
     ]
    }
   ],
   "source": [
    "# Question8\n",
    "code = \"SKU-12345-XYZ\"\n",
    "print(code[4:9])"
   ]
  },
  {
   "cell_type": "code",
   "execution_count": 44,
   "id": "0e10ddbe-5473-43eb-aad8-e2899d76b80f",
   "metadata": {},
   "outputs": [
    {
     "name": "stdin",
     "output_type": "stream",
     "text": [
      "Enter your password:  Warisha@02\n"
     ]
    },
    {
     "name": "stdout",
     "output_type": "stream",
     "text": [
      "Password checks:\n",
      "Contains uppercase characters: True\n",
      "Contains lowercase characters: True\n",
      "Contains spaces: False\n",
      "Contains special characters: True\n"
     ]
    }
   ],
   "source": [
    "# Question9\n",
    "password = input(\"Enter your password: \")\n",
    "contains_uppercase = any(char.isupper() for char in password) #Checking for uppercase characters\n",
    "contains_lowercase = any(char.islower() for char in password) #Checking for lowercase characters\n",
    "contains_space = any(char.isspace() for char in password) #Checking for spaces\n",
    "special_characters = string.punctuation\n",
    "contains_special = any(char in special_characters for char in password) #Checking for special characters\n",
    "\n",
    "print(\"Password checks:\")\n",
    "print(f\"Contains uppercase characters: {contains_uppercase}\")\n",
    "print(f\"Contains lowercase characters: {contains_lowercase}\")\n",
    "print(f\"Contains spaces: {contains_space}\")\n",
    "print(f\"Contains special characters: {contains_special}\")\n"
   ]
  },
  {
   "cell_type": "code",
   "execution_count": 46,
   "id": "4ddd8550-327b-4227-907b-6af1cc813712",
   "metadata": {},
   "outputs": [
    {
     "name": "stdout",
     "output_type": "stream",
     "text": [
      "programming\n"
     ]
    }
   ],
   "source": [
    "# Question10 Find the Longest Word\n",
    "Input= \"I love programming in Python\"\n",
    "words = Input.split()\n",
    "longestword = max(words, key=len)\n",
    "print(longestword)\n"
   ]
  },
  {
   "cell_type": "code",
   "execution_count": null,
   "id": "4c7d05f9-3039-4499-a464-1dc137387cef",
   "metadata": {},
   "outputs": [],
   "source": []
  }
 ],
 "metadata": {
  "kernelspec": {
   "display_name": "Python 3 (ipykernel)",
   "language": "python",
   "name": "python3"
  },
  "language_info": {
   "codemirror_mode": {
    "name": "ipython",
    "version": 3
   },
   "file_extension": ".py",
   "mimetype": "text/x-python",
   "name": "python",
   "nbconvert_exporter": "python",
   "pygments_lexer": "ipython3",
   "version": "3.12.7"
  }
 },
 "nbformat": 4,
 "nbformat_minor": 5
}
