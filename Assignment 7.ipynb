{
 "cells": [
  {
   "cell_type": "code",
   "execution_count": 1,
   "id": "03262360-11d9-43e2-a134-7f4e80006e44",
   "metadata": {},
   "outputs": [
    {
     "name": "stdout",
     "output_type": "stream",
     "text": [
      "Requirement already satisfied: pandas in c:\\users\\wari\\anaconda3\\lib\\site-packages (2.2.2)\n",
      "Requirement already satisfied: numpy>=1.26.0 in c:\\users\\wari\\anaconda3\\lib\\site-packages (from pandas) (1.26.4)\n",
      "Requirement already satisfied: python-dateutil>=2.8.2 in c:\\users\\wari\\anaconda3\\lib\\site-packages (from pandas) (2.9.0.post0)\n",
      "Requirement already satisfied: pytz>=2020.1 in c:\\users\\wari\\anaconda3\\lib\\site-packages (from pandas) (2024.1)\n",
      "Requirement already satisfied: tzdata>=2022.7 in c:\\users\\wari\\anaconda3\\lib\\site-packages (from pandas) (2023.3)\n",
      "Requirement already satisfied: six>=1.5 in c:\\users\\wari\\anaconda3\\lib\\site-packages (from python-dateutil>=2.8.2->pandas) (1.16.0)\n"
     ]
    }
   ],
   "source": [
    "!pip install pandas"
   ]
  },
  {
   "cell_type": "code",
   "execution_count": 2,
   "id": "0577204b-6bbf-4456-9f50-fdbffcd55e96",
   "metadata": {},
   "outputs": [],
   "source": [
    "import pandas as pd"
   ]
  },
  {
   "cell_type": "code",
   "execution_count": 12,
   "id": "f76e668f-73ee-4cd7-b0b5-c777e5c6f620",
   "metadata": {},
   "outputs": [
    {
     "data": {
      "text/html": [
       "<div>\n",
       "<style scoped>\n",
       "    .dataframe tbody tr th:only-of-type {\n",
       "        vertical-align: middle;\n",
       "    }\n",
       "\n",
       "    .dataframe tbody tr th {\n",
       "        vertical-align: top;\n",
       "    }\n",
       "\n",
       "    .dataframe thead th {\n",
       "        text-align: right;\n",
       "    }\n",
       "</style>\n",
       "<table border=\"1\" class=\"dataframe\">\n",
       "  <thead>\n",
       "    <tr style=\"text-align: right;\">\n",
       "      <th></th>\n",
       "      <th>experience_coding</th>\n",
       "      <th>python_user</th>\n",
       "      <th>r_user</th>\n",
       "      <th>sql_user</th>\n",
       "      <th>most_used</th>\n",
       "      <th>compensation</th>\n",
       "    </tr>\n",
       "  </thead>\n",
       "  <tbody>\n",
       "    <tr>\n",
       "      <th>0</th>\n",
       "      <td>6.1</td>\n",
       "      <td>True</td>\n",
       "      <td>False</td>\n",
       "      <td>True</td>\n",
       "      <td>Scikit-learn</td>\n",
       "      <td>124267</td>\n",
       "    </tr>\n",
       "    <tr>\n",
       "      <th>1</th>\n",
       "      <td>12.3</td>\n",
       "      <td>True</td>\n",
       "      <td>True</td>\n",
       "      <td>True</td>\n",
       "      <td>Scikit-learn</td>\n",
       "      <td>236889</td>\n",
       "    </tr>\n",
       "    <tr>\n",
       "      <th>2</th>\n",
       "      <td>2.2</td>\n",
       "      <td>True</td>\n",
       "      <td>False</td>\n",
       "      <td>False</td>\n",
       "      <td>NaN</td>\n",
       "      <td>74321</td>\n",
       "    </tr>\n",
       "    <tr>\n",
       "      <th>3</th>\n",
       "      <td>2.7</td>\n",
       "      <td>False</td>\n",
       "      <td>False</td>\n",
       "      <td>True</td>\n",
       "      <td>NaN</td>\n",
       "      <td>62593</td>\n",
       "    </tr>\n",
       "    <tr>\n",
       "      <th>4</th>\n",
       "      <td>1.2</td>\n",
       "      <td>True</td>\n",
       "      <td>False</td>\n",
       "      <td>False</td>\n",
       "      <td>Scikit-learn</td>\n",
       "      <td>36288</td>\n",
       "    </tr>\n",
       "    <tr>\n",
       "      <th>...</th>\n",
       "      <td>...</td>\n",
       "      <td>...</td>\n",
       "      <td>...</td>\n",
       "      <td>...</td>\n",
       "      <td>...</td>\n",
       "      <td>...</td>\n",
       "    </tr>\n",
       "    <tr>\n",
       "      <th>25968</th>\n",
       "      <td>1.9</td>\n",
       "      <td>True</td>\n",
       "      <td>False</td>\n",
       "      <td>True</td>\n",
       "      <td>Scikit-learn</td>\n",
       "      <td>15800</td>\n",
       "    </tr>\n",
       "    <tr>\n",
       "      <th>25969</th>\n",
       "      <td>1.4</td>\n",
       "      <td>True</td>\n",
       "      <td>False</td>\n",
       "      <td>False</td>\n",
       "      <td>PyTorch</td>\n",
       "      <td>62456</td>\n",
       "    </tr>\n",
       "    <tr>\n",
       "      <th>25970</th>\n",
       "      <td>0.0</td>\n",
       "      <td>False</td>\n",
       "      <td>False</td>\n",
       "      <td>False</td>\n",
       "      <td>NaN</td>\n",
       "      <td>923</td>\n",
       "    </tr>\n",
       "    <tr>\n",
       "      <th>25971</th>\n",
       "      <td>9.4</td>\n",
       "      <td>True</td>\n",
       "      <td>False</td>\n",
       "      <td>True</td>\n",
       "      <td>Scikit-learn</td>\n",
       "      <td>60609</td>\n",
       "    </tr>\n",
       "    <tr>\n",
       "      <th>25972</th>\n",
       "      <td>0.0</td>\n",
       "      <td>False</td>\n",
       "      <td>False</td>\n",
       "      <td>False</td>\n",
       "      <td>NaN</td>\n",
       "      <td>493</td>\n",
       "    </tr>\n",
       "  </tbody>\n",
       "</table>\n",
       "<p>25973 rows × 6 columns</p>\n",
       "</div>"
      ],
      "text/plain": [
       "       experience_coding  python_user  r_user  sql_user     most_used  \\\n",
       "0                    6.1         True   False      True  Scikit-learn   \n",
       "1                   12.3         True    True      True  Scikit-learn   \n",
       "2                    2.2         True   False     False           NaN   \n",
       "3                    2.7        False   False      True           NaN   \n",
       "4                    1.2         True   False     False  Scikit-learn   \n",
       "...                  ...          ...     ...       ...           ...   \n",
       "25968                1.9         True   False      True  Scikit-learn   \n",
       "25969                1.4         True   False     False       PyTorch   \n",
       "25970                0.0        False   False     False           NaN   \n",
       "25971                9.4         True   False      True  Scikit-learn   \n",
       "25972                0.0        False   False     False           NaN   \n",
       "\n",
       "       compensation  \n",
       "0            124267  \n",
       "1            236889  \n",
       "2             74321  \n",
       "3             62593  \n",
       "4             36288  \n",
       "...             ...  \n",
       "25968         15800  \n",
       "25969         62456  \n",
       "25970           923  \n",
       "25971         60609  \n",
       "25972           493  \n",
       "\n",
       "[25973 rows x 6 columns]"
      ]
     },
     "execution_count": 12,
     "metadata": {},
     "output_type": "execute_result"
    }
   ],
   "source": [
    "data = pd.read_csv('compensation data.csv')\n",
    "data"
   ]
  },
  {
   "cell_type": "code",
   "execution_count": 14,
   "id": "37be47cf-f3d3-4dcc-bb30-f97dda83ced9",
   "metadata": {},
   "outputs": [
    {
     "data": {
      "text/plain": [
       "(25973, 6)"
      ]
     },
     "execution_count": 14,
     "metadata": {},
     "output_type": "execute_result"
    }
   ],
   "source": [
    "data.shape"
   ]
  },
  {
   "cell_type": "code",
   "execution_count": 16,
   "id": "df62f9bc-4931-4022-b8ce-f9e16f7f16d5",
   "metadata": {},
   "outputs": [
    {
     "data": {
      "text/plain": [
       "experience_coding    float64\n",
       "python_user             bool\n",
       "r_user                  bool\n",
       "sql_user                bool\n",
       "most_used             object\n",
       "compensation           int64\n",
       "dtype: object"
      ]
     },
     "execution_count": 16,
     "metadata": {},
     "output_type": "execute_result"
    }
   ],
   "source": [
    "data.dtypes"
   ]
  },
  {
   "cell_type": "code",
   "execution_count": 18,
   "id": "3c4e38af-a77d-460a-a22b-ccbefebbe26c",
   "metadata": {},
   "outputs": [
    {
     "name": "stdout",
     "output_type": "stream",
     "text": [
      "25973\n",
      "25973\n",
      "25973\n"
     ]
    }
   ],
   "source": [
    "python_user = data['python_user'].count() # to check total length\n",
    "r_user = data['r_user'].count()\n",
    "sql_user = data['sql_user'].count()\n",
    "\n",
    "\n",
    "print(python_user)\n",
    "print(r_user)\n",
    "print(sql_user)\n"
   ]
  },
  {
   "cell_type": "code",
   "execution_count": 20,
   "id": "0717c344-7890-4369-92bf-70450fd8cc09",
   "metadata": {},
   "outputs": [
    {
     "data": {
      "text/html": [
       "<div>\n",
       "<style scoped>\n",
       "    .dataframe tbody tr th:only-of-type {\n",
       "        vertical-align: middle;\n",
       "    }\n",
       "\n",
       "    .dataframe tbody tr th {\n",
       "        vertical-align: top;\n",
       "    }\n",
       "\n",
       "    .dataframe thead th {\n",
       "        text-align: right;\n",
       "    }\n",
       "</style>\n",
       "<table border=\"1\" class=\"dataframe\">\n",
       "  <thead>\n",
       "    <tr style=\"text-align: right;\">\n",
       "      <th></th>\n",
       "      <th>experience_coding</th>\n",
       "      <th>python_user</th>\n",
       "      <th>r_user</th>\n",
       "      <th>sql_user</th>\n",
       "      <th>most_used</th>\n",
       "      <th>compensation</th>\n",
       "      <th>Category</th>\n",
       "    </tr>\n",
       "  </thead>\n",
       "  <tbody>\n",
       "    <tr>\n",
       "      <th>0</th>\n",
       "      <td>6.1</td>\n",
       "      <td>True</td>\n",
       "      <td>False</td>\n",
       "      <td>True</td>\n",
       "      <td>Scikit-learn</td>\n",
       "      <td>124267</td>\n",
       "      <td>5-10 Years</td>\n",
       "    </tr>\n",
       "    <tr>\n",
       "      <th>1</th>\n",
       "      <td>12.3</td>\n",
       "      <td>True</td>\n",
       "      <td>True</td>\n",
       "      <td>True</td>\n",
       "      <td>Scikit-learn</td>\n",
       "      <td>236889</td>\n",
       "      <td>10-15 Years</td>\n",
       "    </tr>\n",
       "    <tr>\n",
       "      <th>2</th>\n",
       "      <td>2.2</td>\n",
       "      <td>True</td>\n",
       "      <td>False</td>\n",
       "      <td>False</td>\n",
       "      <td>NaN</td>\n",
       "      <td>74321</td>\n",
       "      <td>&lt; 5 Years</td>\n",
       "    </tr>\n",
       "    <tr>\n",
       "      <th>3</th>\n",
       "      <td>2.7</td>\n",
       "      <td>False</td>\n",
       "      <td>False</td>\n",
       "      <td>True</td>\n",
       "      <td>NaN</td>\n",
       "      <td>62593</td>\n",
       "      <td>&lt; 5 Years</td>\n",
       "    </tr>\n",
       "    <tr>\n",
       "      <th>4</th>\n",
       "      <td>1.2</td>\n",
       "      <td>True</td>\n",
       "      <td>False</td>\n",
       "      <td>False</td>\n",
       "      <td>Scikit-learn</td>\n",
       "      <td>36288</td>\n",
       "      <td>&lt; 5 Years</td>\n",
       "    </tr>\n",
       "  </tbody>\n",
       "</table>\n",
       "</div>"
      ],
      "text/plain": [
       "   experience_coding  python_user  r_user  sql_user     most_used  \\\n",
       "0                6.1         True   False      True  Scikit-learn   \n",
       "1               12.3         True    True      True  Scikit-learn   \n",
       "2                2.2         True   False     False           NaN   \n",
       "3                2.7        False   False      True           NaN   \n",
       "4                1.2         True   False     False  Scikit-learn   \n",
       "\n",
       "   compensation     Category  \n",
       "0        124267   5-10 Years  \n",
       "1        236889  10-15 Years  \n",
       "2         74321    < 5 Years  \n",
       "3         62593    < 5 Years  \n",
       "4         36288    < 5 Years  "
      ]
     },
     "execution_count": 20,
     "metadata": {},
     "output_type": "execute_result"
    }
   ],
   "source": [
    "experience = data['experience_coding'] # new column as category\n",
    "\n",
    "def category(experience):\n",
    "    if experience < 5:\n",
    "        return \"< 5 Years\"\n",
    "    elif experience < 10:\n",
    "        return \"5-10 Years\"\n",
    "    elif experience < 15:\n",
    "        return \"10-15 Years\"\n",
    "    elif experience < 20:\n",
    "        return \"15-20 Years\"\n",
    "    elif experience < 25:\n",
    "        return \"20-25 Years\"\n",
    "    else:\n",
    "        return \"25+ Years\"\n",
    "\n",
    "data[\"Category\"] = experience.apply(category)\n",
    "\n",
    "data.head()"
   ]
  },
  {
   "cell_type": "code",
   "execution_count": 22,
   "id": "83592828-9e5d-4658-8a74-8db01e3a930f",
   "metadata": {},
   "outputs": [
    {
     "data": {
      "text/plain": [
       "2        74321\n",
       "3        62593\n",
       "4        36288\n",
       "5        61302\n",
       "6        68984\n",
       "         ...  \n",
       "25966     3932\n",
       "25968    15800\n",
       "25969    62456\n",
       "25970      923\n",
       "25972      493\n",
       "Name: compensation, Length: 18753, dtype: int64"
      ]
     },
     "execution_count": 22,
     "metadata": {},
     "output_type": "execute_result"
    }
   ],
   "source": [
    "data.loc[(data['Category'] == '< 5 Years'),'compensation']  # to check compensation of less thn 5 years experiece"
   ]
  },
  {
   "cell_type": "code",
   "execution_count": 24,
   "id": "db4dfa97-da8f-4cb1-8f66-eb2c38225595",
   "metadata": {},
   "outputs": [
    {
     "data": {
      "text/plain": [
       "1        236889\n",
       "15        14699\n",
       "80       236889\n",
       "119       31626\n",
       "122       65143\n",
       "          ...  \n",
       "25879     59181\n",
       "25914    245371\n",
       "25930     13588\n",
       "25948     27907\n",
       "25956     51978\n",
       "Name: compensation, Length: 1118, dtype: int64"
      ]
     },
     "execution_count": 24,
     "metadata": {},
     "output_type": "execute_result"
    }
   ],
   "source": [
    "data.loc[(data['Category'] == '10-15 Years'),'compensation']  # to check compensation of 5 - 10 years experiece"
   ]
  },
  {
   "cell_type": "code",
   "execution_count": 109,
   "id": "6e5c1757-1f3f-4ce9-9332-74eca9216f2c",
   "metadata": {},
   "outputs": [
    {
     "data": {
      "text/plain": [
       "1        236889\n",
       "15        14699\n",
       "80       236889\n",
       "119       31626\n",
       "122       65143\n",
       "          ...  \n",
       "25879     59181\n",
       "25914    245371\n",
       "25930     13588\n",
       "25948     27907\n",
       "25956     51978\n",
       "Name: compensation, Length: 1118, dtype: int64"
      ]
     },
     "execution_count": 109,
     "metadata": {},
     "output_type": "execute_result"
    }
   ],
   "source": [
    "data.loc[(data['Category'] == '10-15 Years'),'compensation']  # to check compensation of  10 - 15  years experiece"
   ]
  },
  {
   "cell_type": "code",
   "execution_count": 26,
   "id": "39179244-8330-46d6-97c3-8e45a71b621f",
   "metadata": {},
   "outputs": [
    {
     "data": {
      "text/plain": [
       "2        74321\n",
       "3        62593\n",
       "4        36288\n",
       "5        61302\n",
       "6        68984\n",
       "         ...  \n",
       "25966     3932\n",
       "25968    15800\n",
       "25969    62456\n",
       "25970      923\n",
       "25972      493\n",
       "Name: compensation, Length: 18753, dtype: int64"
      ]
     },
     "execution_count": 26,
     "metadata": {},
     "output_type": "execute_result"
    }
   ],
   "source": [
    "data.loc[(data['Category'] == '< 5 Years'),'compensation']  # to check compensation of less thn 5 years experiece"
   ]
  },
  {
   "cell_type": "code",
   "execution_count": null,
   "id": "02bdbd76-e235-4be6-ae50-c49b5a5703a9",
   "metadata": {},
   "outputs": [],
   "source": []
  },
  {
   "cell_type": "code",
   "execution_count": 97,
   "id": "8c83b1da-0bf4-4d79-a531-0a0ba13a705a",
   "metadata": {},
   "outputs": [],
   "source": [
    "new_data = data[[\"experience_coding\",\"python_user\",\"r_user\",\"sql_user\",\"most_used\",\"compensation\",\"Category\"]]# make new sheet and add all the column\n",
    "new_data.to_csv(\"compensation_new.csv\", index=False)"
   ]
  },
  {
   "cell_type": "code",
   "execution_count": null,
   "id": "6f2b786d-6a6e-4ffd-aa5a-bc0ee08a244d",
   "metadata": {},
   "outputs": [],
   "source": []
  }
 ],
 "metadata": {
  "kernelspec": {
   "display_name": "Python 3 (ipykernel)",
   "language": "python",
   "name": "python3"
  },
  "language_info": {
   "codemirror_mode": {
    "name": "ipython",
    "version": 3
   },
   "file_extension": ".py",
   "mimetype": "text/x-python",
   "name": "python",
   "nbconvert_exporter": "python",
   "pygments_lexer": "ipython3",
   "version": "3.12.7"
  }
 },
 "nbformat": 4,
 "nbformat_minor": 5
}
