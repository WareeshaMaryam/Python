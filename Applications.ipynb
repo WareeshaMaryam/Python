{
 "cells": [
  {
   "cell_type": "markdown",
   "id": "46cb2b3e-f763-4873-b92b-2d0390cbb220",
   "metadata": {},
   "source": [
    "# Simple Calculator"
   ]
  },
  {
   "cell_type": "code",
   "execution_count": 2,
   "id": "8f869426-b76b-4624-8e85-54e88c30a91d",
   "metadata": {},
   "outputs": [
    {
     "name": "stdout",
     "output_type": "stream",
     "text": [
      "Welcome to the simple Calculator\n",
      "Choose an Operation\n",
      "1. Addition\n",
      "2. Subtraction\n",
      "3. Multiplication\n",
      "4. Division\n",
      "5. Exit\n"
     ]
    },
    {
     "name": "stdin",
     "output_type": "stream",
     "text": [
      "Enter the number of the operation (1-5):  5\n"
     ]
    },
    {
     "name": "stdout",
     "output_type": "stream",
     "text": [
      "Thank you for using the calculator. Good bye\n"
     ]
    }
   ],
   "source": [
    "def calculator():\n",
    "    print(\"Welcome to the simple Calculator\")\n",
    "    print(\"Choose an Operation\")\n",
    "    print(\"1. Addition\")\n",
    "    print(\"2. Subtraction\")\n",
    "    print(\"3. Multiplication\")\n",
    "    print(\"4. Division\")\n",
    "    print(\"5. Exit\")\n",
    "\n",
    "    while True:\n",
    "        choice = input('Enter the number of the operation (1-5): ')\n",
    "        if choice == \"5\":\n",
    "            print('Thank you for using the calculator. Good bye')\n",
    "            break\n",
    "        if choice in [\"1\",\"2\",\"3\",\"4\"]:\n",
    "            try:\n",
    "                num1 = float(input('Enter the first number'))\n",
    "                num2 = float(input('Enter the second number'))\n",
    "                if choice == 1:\n",
    "                    result = num1+num2\n",
    "                    print(f\"The result of addition is: {result}\")\n",
    "                elif choice ==2:\n",
    "                    result = num1-num2\n",
    "                    print(f\"The result of subtraction is: {result}\")\n",
    "                elif choice == 3:\n",
    "                    result = num1*num2\n",
    "                    print(f\"The result of multiplication is: {result}\")\n",
    "                elif choice == 4:\n",
    "                    try:\n",
    "                        result = num1/num2\n",
    "                    except Exception as error:\n",
    "                        print(f\"invalid input: {error}\")\n",
    "                    except ValueError:\n",
    "                        print('Invalid input. Please enter numeric values.')\n",
    "                    else:\n",
    "                        print(f\"The result of division is: {result}\")\n",
    "\n",
    "            \n",
    "            except ValueError:\n",
    "                print('Invalid input. Please enter numeric values.')\n",
    "            \n",
    "        else:\n",
    "            print('Invalid choice. Please select a valid operation.')\n",
    "            \n",
    "calculator()"
   ]
  },
  {
   "cell_type": "markdown",
   "id": "f9725ec8-9de3-48ed-9a50-f4e91f2683fd",
   "metadata": {},
   "source": [
    "# Number Guessing Game"
   ]
  },
  {
   "cell_type": "code",
   "execution_count": 13,
   "id": "13f2f4e7-82fb-4957-822a-3f0d8500da0d",
   "metadata": {},
   "outputs": [
    {
     "name": "stdout",
     "output_type": "stream",
     "text": [
      "Welcome to the Number Guessing Game!\n",
      "I have selected a number between 1 and 100.\n",
      "Can you guess what it is? You have 7 attempts.\n"
     ]
    },
    {
     "name": "stdin",
     "output_type": "stream",
     "text": [
      "You have 7 attempts left. Enter your guess:  3\n"
     ]
    },
    {
     "name": "stdout",
     "output_type": "stream",
     "text": [
      "Too low! Try again\n"
     ]
    },
    {
     "name": "stdin",
     "output_type": "stream",
     "text": [
      "You have 6 attempts left. Enter your guess:  3\n"
     ]
    },
    {
     "name": "stdout",
     "output_type": "stream",
     "text": [
      "Too low! Try again\n"
     ]
    },
    {
     "name": "stdin",
     "output_type": "stream",
     "text": [
      "You have 5 attempts left. Enter your guess:  3\n"
     ]
    },
    {
     "name": "stdout",
     "output_type": "stream",
     "text": [
      "Too low! Try again\n"
     ]
    },
    {
     "name": "stdin",
     "output_type": "stream",
     "text": [
      "You have 4 attempts left. Enter your guess:  3\n"
     ]
    },
    {
     "name": "stdout",
     "output_type": "stream",
     "text": [
      "Too low! Try again\n"
     ]
    },
    {
     "name": "stdin",
     "output_type": "stream",
     "text": [
      "You have 3 attempts left. Enter your guess:  \n"
     ]
    },
    {
     "name": "stdout",
     "output_type": "stream",
     "text": [
      "Invalid input. Please enter a valid number.\n"
     ]
    },
    {
     "name": "stdin",
     "output_type": "stream",
     "text": [
      "You have 3 attempts left. Enter your guess:  33\n"
     ]
    },
    {
     "name": "stdout",
     "output_type": "stream",
     "text": [
      "Please enter a number between 1 and 10.\n"
     ]
    },
    {
     "name": "stdin",
     "output_type": "stream",
     "text": [
      "You have 3 attempts left. Enter your guess:  4\n"
     ]
    },
    {
     "name": "stdout",
     "output_type": "stream",
     "text": [
      "Too low! Try again\n"
     ]
    },
    {
     "name": "stdin",
     "output_type": "stream",
     "text": [
      "You have 2 attempts left. Enter your guess:  2\n"
     ]
    },
    {
     "name": "stdout",
     "output_type": "stream",
     "text": [
      "Too low! Try again\n"
     ]
    },
    {
     "name": "stdin",
     "output_type": "stream",
     "text": [
      "You have 1 attempts left. Enter your guess:  2\n"
     ]
    },
    {
     "name": "stdout",
     "output_type": "stream",
     "text": [
      "Too low! Try again\n",
      "Game over! The correct number was 7. Better luck next time!\n"
     ]
    }
   ],
   "source": [
    " import random\n",
    "def number_guessing_game():\n",
    "    print('Welcome to the Number Guessing Game!')\n",
    "    print('I have selected a number between 1 and 100.')\n",
    "    print('Can you guess what it is? You have 7 attempts.')\n",
    "\n",
    "    secret_number = random.randint(1,11)\n",
    "    attempts = 7\n",
    "   \n",
    "\n",
    "    while attempts > 0:\n",
    "        \n",
    "        try:\n",
    "            guess = int(input(f\"You have {attempts} attempts left. Enter your guess: \"))\n",
    "            if guess < 0 or guess > 10:\n",
    "                print(\"Please enter a number between 1 and 10.\")\n",
    "                continue\n",
    "            if guess == secret_number:\n",
    "                print(f\"🎉 Congratulations! You guessed the correct number: {secret_number}\")\n",
    "                break\n",
    "            elif guess < secret_number:\n",
    "                print(f\"Too low! Try again\")\n",
    "            elif guess > secret_number:\n",
    "                print(f\"Too how! Try again\")\n",
    "                                \n",
    "            attempts -= 1   \n",
    "        except ValueError:\n",
    "            print(\"Invalid input. Please enter a valid number.\")\n",
    "        \n",
    "    \n",
    "    if attempts == 0:\n",
    "        print(f\"Game over! The correct number was {secret_number}. Better luck next time!\")\n",
    "          \n",
    "    \n",
    "number_guessing_game()    "
   ]
  },
  {
   "cell_type": "markdown",
   "id": "7b0df28b-f0f5-413a-bdfe-4b400edc18fd",
   "metadata": {},
   "source": [
    "# Question Game"
   ]
  },
  {
   "cell_type": "code",
   "execution_count": 35,
   "id": "18805eda-ad4d-42c4-8f79-491766166a13",
   "metadata": {},
   "outputs": [
    {
     "name": "stdout",
     "output_type": "stream",
     "text": [
      "Welcome to the Quiz!\n",
      "Answer the following questions by typing the letter of your choice (a, b, c, or d).!\n",
      "--------------------------------------------------\n",
      "Question no 1: What is the capital of France? \n",
      "a : Paris\n",
      "b : London\n",
      "c : Berlin\n",
      "d : Madrid\n"
     ]
    },
    {
     "name": "stdin",
     "output_type": "stream",
     "text": [
      "Your answer: a\n"
     ]
    },
    {
     "name": "stdout",
     "output_type": "stream",
     "text": [
      "Correct!\n",
      "Question no 2: Which is the largest planet in our solar system? \n",
      "a : Earth\n",
      "b : Mars\n",
      "c : Jupiter\n",
      "d : Saturn\n"
     ]
    },
    {
     "name": "stdin",
     "output_type": "stream",
     "text": [
      "Your answer: c\n"
     ]
    },
    {
     "name": "stdout",
     "output_type": "stream",
     "text": [
      "Correct!\n",
      "Question no 3: What is 5 + 7? \n",
      "a : 10\n",
      "b : 11\n",
      "c : 12\n",
      "d : 13\n"
     ]
    },
    {
     "name": "stdin",
     "output_type": "stream",
     "text": [
      "Your answer: c\n"
     ]
    },
    {
     "name": "stdout",
     "output_type": "stream",
     "text": [
      "Correct!\n",
      "Question no 4: Who wrote 'Romeo and Juliet'? \n",
      "a : Charles Dickens\n",
      "b : William Shakespeare\n",
      "c : Mark Twain\n",
      "d : Jane Austen\n"
     ]
    },
    {
     "name": "stdin",
     "output_type": "stream",
     "text": [
      "Your answer: b\n"
     ]
    },
    {
     "name": "stdout",
     "output_type": "stream",
     "text": [
      "Correct!\n",
      "--------------------------------------------------\n",
      "Quiz Over! You scored 4/4 \n",
      "Thank you for playning\n"
     ]
    }
   ],
   "source": [
    "def run_quiz():\n",
    "    print('Welcome to the Quiz!')\n",
    "    print('Answer the following questions by typing the letter of your choice (a, b, c, or d).!')\n",
    "    print('-'*50)\n",
    "    \n",
    "    questions = [\n",
    "        {\n",
    "            \"question\": \"What is the capital of France?\",\n",
    "            \"options\": {\"a\": \"Paris\", \"b\": \"London\", \"c\": \"Berlin\", \"d\": \"Madrid\"},\n",
    "            \"correct\": \"a\"\n",
    "        },\n",
    "        {\n",
    "            \"question\": \"Which is the largest planet in our solar system?\",\n",
    "            \"options\": {\"a\": \"Earth\", \"b\": \"Mars\", \"c\": \"Jupiter\", \"d\": \"Saturn\"},\n",
    "            \"correct\": \"c\"   \n",
    "        },\n",
    "        {\n",
    "            \"question\": \"What is 5 + 7?\",\n",
    "            \"options\": {\"a\": \"10\", \"b\": \"11\", \"c\": \"12\", \"d\": \"13\"},\n",
    "            \"correct\": \"c\"\n",
    "         },\n",
    "        {\n",
    "           \"question\": \"Who wrote 'Romeo and Juliet'?\",\n",
    "            \"options\": {\"a\": \"Charles Dickens\", \"b\": \"William Shakespeare\", \"c\": \"Mark Twain\", \"d\": \"Jane Austen\"},\n",
    "            \"correct\": \"b\"  \n",
    "        }]\n",
    "       \n",
    "    score = 0      \n",
    "    for i,q in enumerate(questions):\n",
    "        print(f\"Question no {i+1}: {q['question']} \")\n",
    "        for option,answer in q['options'].items():\n",
    "            print(f\"{option} : {answer}\")\n",
    "            \n",
    "        user_answer = input('Your answer:')\n",
    "        if user_answer == q[\"correct\"]:\n",
    "            print('Correct!')\n",
    "            score += 1\n",
    "        else:\n",
    "            print(f\"Wrong! The correct answer is {q['correct']}.\")\n",
    "     \n",
    "    print('-'*50)\n",
    "    print(f\"Quiz Over! You scored {score}/{len(questions)} \")\n",
    "    print('Thank you for playning')\n",
    "\n",
    "run_quiz()    "
   ]
  },
  {
   "cell_type": "code",
   "execution_count": null,
   "id": "5eaf52b5-381d-451d-a2d4-11b354d3e614",
   "metadata": {},
   "outputs": [],
   "source": []
  }
 ],
 "metadata": {
  "kernelspec": {
   "display_name": "Python 3 (ipykernel)",
   "language": "python",
   "name": "python3"
  },
  "language_info": {
   "codemirror_mode": {
    "name": "ipython",
    "version": 3
   },
   "file_extension": ".py",
   "mimetype": "text/x-python",
   "name": "python",
   "nbconvert_exporter": "python",
   "pygments_lexer": "ipython3",
   "version": "3.12.7"
  }
 },
 "nbformat": 4,
 "nbformat_minor": 5
}
