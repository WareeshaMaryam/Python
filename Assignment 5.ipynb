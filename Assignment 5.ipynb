{
 "cells": [
  {
   "cell_type": "markdown",
   "id": "170d9f80-0bdf-4d32-9736-93e86857cc87",
   "metadata": {},
   "source": [
    "# Question 1\n",
    "Write a Python function called add_numbers that takes two numbers as arguments and returns their sum. Then, test the function by calling it with two numbers of your choice."
   ]
  },
  {
   "cell_type": "code",
   "execution_count": 6,
   "id": "157ee1c6-77cb-4e59-a804-601163d66864",
   "metadata": {},
   "outputs": [
    {
     "data": {
      "text/plain": [
       "5"
      ]
     },
     "execution_count": 6,
     "metadata": {},
     "output_type": "execute_result"
    }
   ],
   "source": [
    "def add_numbers (x,y):\n",
    "    return x + y\n",
    "\n",
    "add_numbers(2,3)"
   ]
  },
  {
   "cell_type": "markdown",
   "id": "7f9ede6d-db1d-4d2c-ac3c-c4e1a3653c30",
   "metadata": {},
   "source": [
    "# Question 2 \n",
    "Write a Python function count_vowels that accepts a string and returns the number of vowels (a, e, i, o, u) in that string.\n",
    "- Example: 'Orange'\n",
    "- Output: 3 vowels\n"
   ]
  },
  {
   "cell_type": "code",
   "execution_count": 38,
   "id": "97864799-14d6-499e-be5d-325f7f4cf30f",
   "metadata": {},
   "outputs": [
    {
     "name": "stdout",
     "output_type": "stream",
     "text": [
      "3 vowels\n"
     ]
    }
   ],
   "source": [
    "def count_vowels (input_string):\n",
    "    vowels = 'aeiouAEIOU'\n",
    "    count = 0\n",
    "\n",
    "    \n",
    "    for x in input_string:\n",
    "        if x in vowels:  # Check if the character is a vowel\n",
    "         count+=1\n",
    "    \n",
    "    print(f\"{count} vowels\")       \n",
    "             \n",
    "count_vowels('orange')\n",
    "\n"
   ]
  },
  {
   "cell_type": "markdown",
   "id": "09ed52aa-b88e-4f30-a017-652d8de535cc",
   "metadata": {},
   "source": [
    "# Question 3  \n",
    "Create a Python function called currency_converter() that takes two arguments:\n",
    "\n",
    "- amount: The amount of money to be converted (in USD).\n",
    "- exchange_rate (default is 280): The conversion rate from USD to another currency (e.g., PKR). You can assume the default rate is 1 USD = 280 PKR.\n",
    "\n",
    "The function should return a message showing how much the given amount is worth in the target currency (PKR)."
   ]
  },
  {
   "cell_type": "code",
   "execution_count": 55,
   "id": "ff1d202a-b081-416d-86e4-1d119ebdef80",
   "metadata": {},
   "outputs": [
    {
     "name": "stdout",
     "output_type": "stream",
     "text": [
      "2 USD is equal to 560 PKR.\n",
      "2 USD is equal to 600 PKR.\n"
     ]
    }
   ],
   "source": [
    "def currency_converter(amount, rate = 280):\n",
    "   converted_amount = amount * rate\n",
    "   return f\"{amount} USD is equal to {converted_amount} PKR.\"\n",
    "    \n",
    "print(currency_converter(2))  #by default value\n",
    "print(currency_converter(2,300)) #by user given value"
   ]
  },
  {
   "cell_type": "markdown",
   "id": "80ee5bc1-0c50-4341-9c04-12c9706e3e2d",
   "metadata": {},
   "source": [
    "# Question 4 \n",
    "Write a Python function display_student_info that accepts the following details about a student:\n",
    "\n",
    "- name (Keyword argument): The name of the student.\n",
    "- age (Keyword argument): The age of the student.\n",
    "- grade (Keyword argument): The grade the student is in.\n",
    "- school (Keyword argument): The name of the school the student attends."
   ]
  },
  {
   "cell_type": "code",
   "execution_count": 60,
   "id": "3ffb0456-05eb-49e7-99a4-e08630b486b2",
   "metadata": {},
   "outputs": [
    {
     "data": {
      "text/plain": [
       "{'name': 'Warisha', 'age': 23, 'grade': 'B', 'school': 'private'}"
      ]
     },
     "execution_count": 60,
     "metadata": {},
     "output_type": "execute_result"
    }
   ],
   "source": [
    "def display_student_info (**info):\n",
    "    return info\n",
    "\n",
    "display_student_info(name = \"Warisha\",age = 23, grade = 'B', school='private')"
   ]
  },
  {
   "cell_type": "markdown",
   "id": "0fe94f0f-cf3b-4122-8c18-204e74890214",
   "metadata": {},
   "source": [
    "# Question 5\n",
    "Write a Python function calculate_price that accepts two positional arguments:\n",
    "\n",
    "- price: The price of a single item.\n",
    "- quantity: The number of items bought.\n",
    "- The function should return the total price by multiplying price and quantity."
   ]
  },
  {
   "cell_type": "code",
   "execution_count": 64,
   "id": "5d1d7a71-43fd-46f8-9ff0-ab103228621b",
   "metadata": {},
   "outputs": [
    {
     "data": {
      "text/plain": [
       "'Total amount is 600'"
      ]
     },
     "execution_count": 64,
     "metadata": {},
     "output_type": "execute_result"
    }
   ],
   "source": [
    "def calculate_price (price , quantity):\n",
    "    amount = price * quantity\n",
    "    return f\"Total amount is {amount}\"\n",
    "\n",
    "calculate_price(200,3)"
   ]
  },
  {
   "cell_type": "markdown",
   "id": "f296207b-8c2c-4fed-a439-55c62a4fad48",
   "metadata": {},
   "source": [
    "# Question 6\n",
    "Write a Python function display_prices that takes a product name and an arbitrary number of keyword arguments representing product prices. The function should display each product and its price.\n",
    "\n",
    "- Product: Laptop\n",
    "- Amazon: $800\n",
    "\n",
    "- eBay: $750\n",
    "  \n",
    "- Walmart: $780\n"
   ]
  },
  {
   "cell_type": "code",
   "execution_count": 84,
   "id": "2aaf2f56-1d7b-4fa8-825f-15d2fce8e6cb",
   "metadata": {},
   "outputs": [
    {
     "name": "stdout",
     "output_type": "stream",
     "text": [
      "  . Product : Laptop\n",
      "  . Amazon : $800\n",
      "  . eBay : $750\n",
      "  . Walmart : $780\n"
     ]
    }
   ],
   "source": [
    "def product_info (**details):\n",
    "    for keys , values in details.items():\n",
    "        print(f\"  . {keys} : {values}\")\n",
    "\n",
    "product_info(Product = 'Laptop', Amazon = '$800', eBay = '$750', Walmart = '$780')"
   ]
  },
  {
   "cell_type": "markdown",
   "id": "ddb017d3-dfd6-48be-b9ba-adfb84632a9e",
   "metadata": {},
   "source": [
    "# Question 7\n",
    "Write a Python function find_max that takes any number of numerical arguments and returns the maximum number."
   ]
  },
  {
   "cell_type": "code",
   "execution_count": 90,
   "id": "27a27165-845c-44f5-809d-4ed1d2cb2072",
   "metadata": {},
   "outputs": [
    {
     "data": {
      "text/plain": [
       "60"
      ]
     },
     "execution_count": 90,
     "metadata": {},
     "output_type": "execute_result"
    }
   ],
   "source": [
    "def find_max (*value):\n",
    "    result = max(value)\n",
    "    return result\n",
    "\n",
    "find_max (50,60,30,10)"
   ]
  },
  {
   "cell_type": "markdown",
   "id": "133f4fd5-0f8d-4595-88c2-0cd7371c775b",
   "metadata": {},
   "source": [
    "# Question 8\n",
    "Write a Python function display_info that takes:\n",
    "\n",
    "- Positional arguments for the name and age of a person.\n",
    "- Keyword arguments for other personal details like address, phone number, and email.\n",
    "\n",
    "Example Output:\n",
    "\n",
    "- Name: Alice\n",
    "- Age: 30\n",
    "- Other Details:\n",
    "    - address: 123 Main St\n",
    "    - phone: 123-456-7890\n",
    "    - email: alice@example.com\n"
   ]
  },
  {
   "cell_type": "code",
   "execution_count": 114,
   "id": "7ea8d079-89ff-4f2a-9c9b-59622c2b32e9",
   "metadata": {},
   "outputs": [
    {
     "name": "stdout",
     "output_type": "stream",
     "text": [
      ". Name : Warisha\n",
      ". Age : 23\n",
      ". Other details\n",
      "   . address : 123 Main St\n",
      "   . phone : -8223\n",
      "   . email : alice@example.com\n"
     ]
    }
   ],
   "source": [
    "def display_info (name,age,**info):\n",
    "    print(f\". Name : {name}\")\n",
    "    print(f\". Age : {age}\")\n",
    "    print(f\". Other details\")\n",
    "    for x,y in info.items():\n",
    "        print(f\"   . {x} : {y}\")\n",
    "           \n",
    "\n",
    "display_info(\"Warisha\",23, address= '123 Main St' , phone = 123-456-7890, email= 'alice@example.com' )"
   ]
  },
  {
   "cell_type": "markdown",
   "id": "ba32f7dd-8038-4e6d-a785-0244a500313c",
   "metadata": {},
   "source": [
    "# Question 9 \n",
    "Write a Python function calculate_rectangle that accepts the length and width of a rectangle as arguments. Inside this function, create two nested functions:\n",
    "\n",
    "- calculate_area: This function should calculate the area of the rectangle.\n",
    "- calculate_perimeter: This function should calculate the perimeter of the rectangle.\n",
    "- The main function should return both the area and the perimeter of the rectangle."
   ]
  },
  {
   "cell_type": "code",
   "execution_count": 152,
   "id": "fff341bf-1104-493d-85a3-185738f99410",
   "metadata": {},
   "outputs": [
    {
     "name": "stdout",
     "output_type": "stream",
     "text": [
      "Area : 30\n",
      "Perimeter : 22\n"
     ]
    }
   ],
   "source": [
    "def calculate_rectangle (length,width):\n",
    "    def calculate_area ():\n",
    "         return length * width\n",
    "\n",
    "    def calculate_perimeter():\n",
    "        return 2 * (length + width)\n",
    "\n",
    "    area = calculate_area()\n",
    "    perimeter = calculate_perimeter()\n",
    "    print(f\"Area : {area}\")\n",
    "    print(f\"Perimeter : {perimeter}\")\n",
    "   \n",
    "calculate_rectangle(5,6)"
   ]
  },
  {
   "cell_type": "markdown",
   "id": "ff60a2fd-df19-4d11-ae27-27443c000e5a",
   "metadata": {},
   "source": [
    "# Question 10 \n",
    "\n",
    "products = [\n",
    "    {\"name\": \"Laptop\", \"price\": 1200, \"in_stock\": True, \"discount\": 0.1},\n",
    "    {\"name\": \"Smartphone\", \"price\": 800, \"in_stock\": False, \"discount\": 0.05},\n",
    "    {\"name\": \"Headphones\", \"price\": 150, \"in_stock\": True, \"discount\": 0.2},\n",
    "    {\"name\": \"Smartwatch\", \"price\": 300, \"in_stock\": True, \"discount\": 0},\n",
    "    {\"name\": \"Keyboard\", \"price\": 100, \"in_stock\": True, \"discount\": 0.15}\n",
    "]\n",
    "\n",
    "- Get names of in-stock products:\n",
    "\n",
    "  *Use list comprehension to generate a list of names for the products that are in stock.\n",
    "                                            \n",
    "- Calculate final prices for in-stock products after discount:\n",
    "\n",
    "    *For products that have a discount, calculate the final price by applying the discount.\n",
    "\n",
    "  \n",
    "    *For products with no discount, keep the original price.\n",
    "                                            \n",
    "- Generate a list of tuples with the product name and its final price.\n",
    "\n",
    "Example Output:\n",
    "\n",
    "- In-stock product names: ['Laptop', 'Headphones', 'Smartwatch', 'Keyboard']\n",
    "- Discounted prices: [('Laptop', 1080.0), ('Headphones', 120.0), ('Smartwatch', 300), ('Keyboard', 85.0)]\n"
   ]
  },
  {
   "cell_type": "code",
   "execution_count": 158,
   "id": "258c9536-f80f-479a-a01d-92936f9d3a3f",
   "metadata": {},
   "outputs": [],
   "source": [
    "products = [ {\"name\": \"Laptop\", \"price\": 1200, \"in_stock\": True, \"discount\": 0.1}, {\"name\": \"Smartphone\", \"price\": 800, \"in_stock\": False, \"discount\": 0.05}, {\"name\": \"Headphones\", \"price\": 150, \"in_stock\": True, \"discount\": 0.2}, {\"name\": \"Smartwatch\", \"price\": 300, \"in_stock\": True, \"discount\": 0}, {\"name\": \"Keyboard\", \"price\": 100, \"in_stock\": True, \"discount\": 0.15} ]"
   ]
  },
  {
   "cell_type": "code",
   "execution_count": 174,
   "id": "d79193c1-263a-40ee-9524-ccab70d2c723",
   "metadata": {},
   "outputs": [
    {
     "name": "stdout",
     "output_type": "stream",
     "text": [
      "In-stock product names: ['Laptop', 'Headphones', 'Smartwatch', 'Keyboard']\n",
      "Discounted prices: [('Laptop', 1080.0), ('Headphones', 120.0), ('Smartwatch', 300), ('Keyboard', 85.0)]\n"
     ]
    }
   ],
   "source": [
    "stock = [names['name'] for names in products   # Get names of in-stock products\n",
    "        if names['in_stock'] == True]\n",
    "\n",
    "\n",
    "discounted_prices = [\n",
    "    (product[\"name\"], product[\"price\"] * (1 - product[\"discount\"]) if product[\"discount\"] > 0 else product[\"price\"]) \n",
    "    for product in products if product[\"in_stock\"] # Calculate final prices for in-stock products after discount\n",
    "]\n",
    "\n",
    "print(\"In-stock product names:\", stock)\n",
    "print(\"Discounted prices:\", discounted_prices)"
   ]
  }
 ],
 "metadata": {
  "kernelspec": {
   "display_name": "Python 3 (ipykernel)",
   "language": "python",
   "name": "python3"
  },
  "language_info": {
   "codemirror_mode": {
    "name": "ipython",
    "version": 3
   },
   "file_extension": ".py",
   "mimetype": "text/x-python",
   "name": "python",
   "nbconvert_exporter": "python",
   "pygments_lexer": "ipython3",
   "version": "3.12.7"
  }
 },
 "nbformat": 4,
 "nbformat_minor": 5
}
